{
 "cells": [
  {
   "cell_type": "code",
   "execution_count": 1,
   "metadata": {},
   "outputs": [],
   "source": [
    "from pyprojroot import here\n",
    "db_path = str(here(\"data\")) + \"/sqldb.db\""
   ]
  },
  {
   "cell_type": "code",
   "execution_count": 2,
   "metadata": {},
   "outputs": [
    {
     "name": "stdout",
     "output_type": "stream",
     "text": [
      "sqlite\n",
      "['Album', 'Artist', 'Customer', 'Employee', 'Genre', 'Invoice', 'InvoiceLine', 'MediaType', 'Playlist', 'PlaylistTrack', 'Track']\n"
     ]
    },
    {
     "data": {
      "text/plain": [
       "\"[(1, 'Adams', 'Andrew', 'General Manager', None, '1962-02-18 00:00:00', '2002-08-14 00:00:00', '11120 Jasper Ave NW', 'Edmonton', 'AB', 'Canada', 'T5K 2N1', '+1 (780) 428-9482', '+1 (780) 428-3457', 'andrew@chinookcorp.com'), (2, 'Edwards', 'Nancy', 'Sales Manager', 1, '1958-12-08 00:00:00', '2002-05-01 00:00:00', '825 8 Ave SW', 'Calgary', 'AB', 'Canada', 'T2P 2T3', '+1 (403) 262-3443', '+1 (403) 262-3322', 'nancy@chinookcorp.com'), (3, 'Peacock', 'Jane', 'Sales Support Agent', 2, '1973-08-29 00:00:00', '2002-04-01 00:00:00', '1111 6 Ave SW', 'Calgary', 'AB', 'Canada', 'T2P 5M5', '+1 (403) 262-3443', '+1 (403) 262-6712', 'jane@chinookcorp.com'), (4, 'Park', 'Margaret', 'Sales Support Agent', 2, '1947-09-19 00:00:00', '2003-05-03 00:00:00', '683 10 Street SW', 'Calgary', 'AB', 'Canada', 'T2P 5G3', '+1 (403) 263-4423', '+1 (403) 263-4289', 'margaret@chinookcorp.com'), (5, 'Johnson', 'Steve', 'Sales Support Agent', 2, '1965-03-03 00:00:00', '2003-10-17 00:00:00', '7727B 41 Ave', 'Calgary', 'AB', 'Canada', 'T3B 1Y7', '1 (780) 836-9987', '1 (780) 836-9543', 'steve@chinookcorp.com'), (6, 'Mitchell', 'Michael', 'IT Manager', 1, '1973-07-01 00:00:00', '2003-10-17 00:00:00', '5827 Bowness Road NW', 'Calgary', 'AB', 'Canada', 'T3B 0C5', '+1 (403) 246-9887', '+1 (403) 246-9899', 'michael@chinookcorp.com'), (7, 'King', 'Robert', 'IT Staff', 6, '1970-05-29 00:00:00', '2004-01-02 00:00:00', '590 Columbia Boulevard West', 'Lethbridge', 'AB', 'Canada', 'T1K 5N8', '+1 (403) 456-9986', '+1 (403) 456-8485', 'robert@chinookcorp.com'), (8, 'Callahan', 'Laura', 'IT Staff', 6, '1968-01-09 00:00:00', '2004-03-04 00:00:00', '923 7 ST NW', 'Lethbridge', 'AB', 'Canada', 'T1H 1Y8', '+1 (403) 467-3351', '+1 (403) 467-8772', 'laura@chinookcorp.com')]\""
      ]
     },
     "execution_count": 2,
     "metadata": {},
     "output_type": "execute_result"
    }
   ],
   "source": [
    "from langchain_community.utilities import SQLDatabase\n",
    "db = SQLDatabase.from_uri(f\"sqlite:///{db_path}\")\n",
    "print(db.dialect)\n",
    "print(db.get_usable_table_names())\n",
    "db.run(\"SELECT * FROM Employee LIMIT 10;\")"
   ]
  },
  {
   "cell_type": "code",
   "execution_count": 16,
   "metadata": {},
   "outputs": [
    {
     "name": "stdout",
     "output_type": "stream",
     "text": [
      "Tables: ['Album', 'Artist', 'Customer', 'Employee', 'Genre', 'Invoice', 'InvoiceLine', 'MediaType', 'Playlist', 'PlaylistTrack', 'Track']\n",
      "Information for table: Album\n",
      "Schema: ['main']\n",
      "Column: AlbumId Type: INTEGER\n",
      "Column: Title Type: NVARCHAR(160)\n",
      "Column: ArtistId Type: INTEGER\n",
      "Primary Key Constraint: {'constrained_columns': ['AlbumId'], 'name': None}\n",
      "Foreign Keys: [{'name': None, 'constrained_columns': ['ArtistId'], 'referred_schema': None, 'referred_table': 'Artist', 'referred_columns': ['ArtistId'], 'options': {}}]\n",
      "Information for table: Artist\n",
      "Schema: ['main']\n",
      "Column: ArtistId Type: INTEGER\n",
      "Column: Name Type: NVARCHAR(120)\n",
      "Primary Key Constraint: {'constrained_columns': ['ArtistId'], 'name': None}\n",
      "Foreign Keys: []\n",
      "Information for table: Customer\n",
      "Schema: ['main']\n",
      "Column: CustomerId Type: INTEGER\n",
      "Column: FirstName Type: NVARCHAR(40)\n",
      "Column: LastName Type: NVARCHAR(20)\n",
      "Column: Company Type: NVARCHAR(80)\n",
      "Column: Address Type: NVARCHAR(70)\n",
      "Column: City Type: NVARCHAR(40)\n",
      "Column: State Type: NVARCHAR(40)\n",
      "Column: Country Type: NVARCHAR(40)\n",
      "Column: PostalCode Type: NVARCHAR(10)\n",
      "Column: Phone Type: NVARCHAR(24)\n",
      "Column: Fax Type: NVARCHAR(24)\n",
      "Column: Email Type: NVARCHAR(60)\n",
      "Column: SupportRepId Type: INTEGER\n",
      "Primary Key Constraint: {'constrained_columns': ['CustomerId'], 'name': None}\n",
      "Foreign Keys: [{'name': None, 'constrained_columns': ['SupportRepId'], 'referred_schema': None, 'referred_table': 'Employee', 'referred_columns': ['EmployeeId'], 'options': {}}]\n",
      "Information for table: Employee\n",
      "Schema: ['main']\n",
      "Column: EmployeeId Type: INTEGER\n",
      "Column: LastName Type: NVARCHAR(20)\n",
      "Column: FirstName Type: NVARCHAR(20)\n",
      "Column: Title Type: NVARCHAR(30)\n",
      "Column: ReportsTo Type: INTEGER\n",
      "Column: BirthDate Type: DATETIME\n",
      "Column: HireDate Type: DATETIME\n",
      "Column: Address Type: NVARCHAR(70)\n",
      "Column: City Type: NVARCHAR(40)\n",
      "Column: State Type: NVARCHAR(40)\n",
      "Column: Country Type: NVARCHAR(40)\n",
      "Column: PostalCode Type: NVARCHAR(10)\n",
      "Column: Phone Type: NVARCHAR(24)\n",
      "Column: Fax Type: NVARCHAR(24)\n",
      "Column: Email Type: NVARCHAR(60)\n",
      "Primary Key Constraint: {'constrained_columns': ['EmployeeId'], 'name': None}\n",
      "Foreign Keys: [{'name': None, 'constrained_columns': ['ReportsTo'], 'referred_schema': None, 'referred_table': 'Employee', 'referred_columns': ['EmployeeId'], 'options': {}}]\n",
      "Information for table: Genre\n",
      "Schema: ['main']\n",
      "Column: GenreId Type: INTEGER\n",
      "Column: Name Type: NVARCHAR(120)\n",
      "Primary Key Constraint: {'constrained_columns': ['GenreId'], 'name': None}\n",
      "Foreign Keys: []\n",
      "Information for table: Invoice\n",
      "Schema: ['main']\n",
      "Column: InvoiceId Type: INTEGER\n",
      "Column: CustomerId Type: INTEGER\n",
      "Column: InvoiceDate Type: DATETIME\n",
      "Column: BillingAddress Type: NVARCHAR(70)\n",
      "Column: BillingCity Type: NVARCHAR(40)\n",
      "Column: BillingState Type: NVARCHAR(40)\n",
      "Column: BillingCountry Type: NVARCHAR(40)\n",
      "Column: BillingPostalCode Type: NVARCHAR(10)\n",
      "Column: Total Type: NUMERIC(10, 2)\n",
      "Primary Key Constraint: {'constrained_columns': ['InvoiceId'], 'name': None}\n",
      "Foreign Keys: [{'name': None, 'constrained_columns': ['CustomerId'], 'referred_schema': None, 'referred_table': 'Customer', 'referred_columns': ['CustomerId'], 'options': {}}]\n",
      "Information for table: InvoiceLine\n",
      "Schema: ['main']\n",
      "Column: InvoiceLineId Type: INTEGER\n",
      "Column: InvoiceId Type: INTEGER\n",
      "Column: TrackId Type: INTEGER\n",
      "Column: UnitPrice Type: NUMERIC(10, 2)\n",
      "Column: Quantity Type: INTEGER\n",
      "Primary Key Constraint: {'constrained_columns': ['InvoiceLineId'], 'name': None}\n",
      "Foreign Keys: [{'name': None, 'constrained_columns': ['TrackId'], 'referred_schema': None, 'referred_table': 'Track', 'referred_columns': ['TrackId'], 'options': {}}, {'name': None, 'constrained_columns': ['InvoiceId'], 'referred_schema': None, 'referred_table': 'Invoice', 'referred_columns': ['InvoiceId'], 'options': {}}]\n",
      "Information for table: MediaType\n",
      "Schema: ['main']\n",
      "Column: MediaTypeId Type: INTEGER\n",
      "Column: Name Type: NVARCHAR(120)\n",
      "Primary Key Constraint: {'constrained_columns': ['MediaTypeId'], 'name': None}\n",
      "Foreign Keys: []\n",
      "Information for table: Playlist\n",
      "Schema: ['main']\n",
      "Column: PlaylistId Type: INTEGER\n",
      "Column: Name Type: NVARCHAR(120)\n",
      "Primary Key Constraint: {'constrained_columns': ['PlaylistId'], 'name': None}\n",
      "Foreign Keys: []\n",
      "Information for table: PlaylistTrack\n",
      "Schema: ['main']\n",
      "Column: PlaylistId Type: INTEGER\n",
      "Column: TrackId Type: INTEGER\n",
      "Primary Key Constraint: {'constrained_columns': ['PlaylistId', 'TrackId'], 'name': None}\n",
      "Foreign Keys: [{'name': None, 'constrained_columns': ['TrackId'], 'referred_schema': None, 'referred_table': 'Track', 'referred_columns': ['TrackId'], 'options': {}}, {'name': None, 'constrained_columns': ['PlaylistId'], 'referred_schema': None, 'referred_table': 'Playlist', 'referred_columns': ['PlaylistId'], 'options': {}}]\n",
      "Information for table: Track\n",
      "Schema: ['main']\n",
      "Column: TrackId Type: INTEGER\n",
      "Column: Name Type: NVARCHAR(200)\n",
      "Column: AlbumId Type: INTEGER\n",
      "Column: MediaTypeId Type: INTEGER\n",
      "Column: GenreId Type: INTEGER\n",
      "Column: Composer Type: NVARCHAR(220)\n",
      "Column: Milliseconds Type: INTEGER\n",
      "Column: Bytes Type: INTEGER\n",
      "Column: UnitPrice Type: NUMERIC(10, 2)\n",
      "Primary Key Constraint: {'constrained_columns': ['TrackId'], 'name': None}\n",
      "Foreign Keys: [{'name': None, 'constrained_columns': ['MediaTypeId'], 'referred_schema': None, 'referred_table': 'MediaType', 'referred_columns': ['MediaTypeId'], 'options': {}}, {'name': None, 'constrained_columns': ['GenreId'], 'referred_schema': None, 'referred_table': 'Genre', 'referred_columns': ['GenreId'], 'options': {}}, {'name': None, 'constrained_columns': ['AlbumId'], 'referred_schema': None, 'referred_table': 'Album', 'referred_columns': ['AlbumId'], 'options': {}}]\n"
     ]
    }
   ],
   "source": [
    "from sqlalchemy import create_engine, inspect\n",
    "\n",
    "# Create an engine that connects to the test.db SQLite database\n",
    "engine = create_engine(f\"sqlite:///{db_path}\")\n",
    "\n",
    "# Connect to the database\n",
    "connection = engine.connect()\n",
    "\n",
    "# Create an inspector object\n",
    "inspector = inspect(engine)\n",
    "\n",
    "# Retrieve the names of all the tables in the database\n",
    "table_names = inspector.get_table_names()\n",
    "print(\"Tables:\", table_names)\n",
    "\n",
    "# Loop over each table to get detailed information like schema, columns, etc.\n",
    "for table_name in table_names:\n",
    "    print(f\"Information for table: {table_name}\")\n",
    "    \n",
    "    # Get the schema of the table (for SQLite, schema is often None)\n",
    "    print(f\"Schema: {inspector.get_schema_names()}\")\n",
    "    \n",
    "    # Get the columns and their attributes for each table\n",
    "    columns = inspector.get_columns(table_name)\n",
    "    for column in columns:\n",
    "        print(f\"Column: {column['name']} Type: {column['type']}\")\n",
    "    \n",
    "    # Additionally, you can use get_pk_constraint and get_foreign_keys \n",
    "    # methods to retrieve information about primary and foreign keys respectively\n",
    "    pk_constraint = inspector.get_pk_constraint(table_name)\n",
    "    print(f\"Primary Key Constraint: {pk_constraint}\")\n",
    "\n",
    "    foreign_keys = inspector.get_foreign_keys(table_name)\n",
    "    print(f\"Foreign Keys: {foreign_keys}\")\n",
    "\n",
    "# Do not forget to close the connection when done\n",
    "connection.close()"
   ]
  },
  {
   "cell_type": "markdown",
   "metadata": {},
   "source": [
    "### Query and QA SQL DB"
   ]
  },
  {
   "cell_type": "code",
   "execution_count": 7,
   "metadata": {},
   "outputs": [],
   "source": [
    "from langchain_community.utilities import SQLDatabase\n",
    "from pyprojroot import here\n",
    "import warnings\n",
    "warnings.filterwarnings(\"ignore\")"
   ]
  },
  {
   "cell_type": "code",
   "execution_count": 8,
   "metadata": {},
   "outputs": [],
   "source": [
    "db_path = str(here(\"data\")) + \"/sqldb.db\"\n",
    "db = SQLDatabase.from_uri(f\"sqlite:///{db_path}\")"
   ]
  },
  {
   "cell_type": "code",
   "execution_count": 6,
   "metadata": {},
   "outputs": [
    {
     "name": "stdout",
     "output_type": "stream",
     "text": [
      "Environment variables are loaded: True\n",
      "test by reading a variable: None\n"
     ]
    }
   ],
   "source": [
    "from dotenv import load_dotenv\n",
    "import os\n",
    "print(\"Environment variables are loaded:\", load_dotenv())\n",
    "print(\"test by reading a variable:\", os.getenv(\"OPENAI_API_TYPE\"))"
   ]
  },
  {
   "cell_type": "code",
   "execution_count": 4,
   "metadata": {},
   "outputs": [
    {
     "name": "stdout",
     "output_type": "stream",
     "text": [
      "content='Hello! How can I assist you today?' additional_kwargs={'refusal': None} response_metadata={'token_usage': {'completion_tokens': 9, 'prompt_tokens': 17, 'total_tokens': 26}, 'model_name': 'gpt-3.5-turbo-0125', 'system_fingerprint': None, 'finish_reason': 'stop', 'logprobs': None} id='run-a67429fd-06be-4cfc-b4c8-a5c735206ca9-0' usage_metadata={'input_tokens': 17, 'output_tokens': 9, 'total_tokens': 26}\n"
     ]
    }
   ],
   "source": [
    "import os\n",
    "from langchain_openai import ChatOpenAI\n",
    "from langchain_core.messages import HumanMessage, SystemMessage\n",
    "messages = [\n",
    "    SystemMessage(content=\"You're a helpful assistant\"),\n",
    "    HumanMessage(content=\"hello\"),\n",
    "]\n",
    "\n",
    "# Initialize the OpenAI client\n",
    "client = ChatOpenAI(\n",
    "    openai_api_key=os.getenv(\"OPENAI_API_KEY\"),\n",
    "    model_name=os.getenv(\"GPT_MODEL_NAME\", \"gpt-3.5-turbo\"),  # Defaulting to gpt-3.5-turbo if not set\n",
    "    temperature=0.7  # You can adjust the temperature if needed\n",
    ")\n",
    "\n",
    "# Send the chat completion request\n",
    "response = client.invoke(messages)\n",
    "\n",
    "print(response)\n"
   ]
  },
  {
   "cell_type": "code",
   "execution_count": 9,
   "metadata": {},
   "outputs": [
    {
     "name": "stdout",
     "output_type": "stream",
     "text": [
      "SELECT COUNT(EmployeeId) as NumEmployees\n",
      "FROM Employee\n"
     ]
    }
   ],
   "source": [
    "from langchain.chains import create_sql_query_chain\n",
    "\n",
    "chain = create_sql_query_chain(client, db)\n",
    "response = chain.invoke({\"question\": \"How many employees are there\"})\n",
    "print(response)"
   ]
  },
  {
   "cell_type": "code",
   "execution_count": 11,
   "metadata": {},
   "outputs": [
    {
     "data": {
      "text/plain": [
       "'[(8,)]'"
      ]
     },
     "execution_count": 11,
     "metadata": {},
     "output_type": "execute_result"
    }
   ],
   "source": [
    "db.run(response)"
   ]
  },
  {
   "cell_type": "code",
   "execution_count": 12,
   "metadata": {},
   "outputs": [
    {
     "name": "stdout",
     "output_type": "stream",
     "text": [
      "You are a SQLite expert. Given an input question, first create a syntactically correct SQLite query to run, then look at the results of the query and return the answer to the input question.\n",
      "Unless the user specifies in the question a specific number of examples to obtain, query for at most 5 results using the LIMIT clause as per SQLite. You can order the results to return the most informative data in the database.\n",
      "Never query for all columns from a table. You must query only the columns that are needed to answer the question. Wrap each column name in double quotes (\") to denote them as delimited identifiers.\n",
      "Pay attention to use only the column names you can see in the tables below. Be careful to not query for columns that do not exist. Also, pay attention to which column is in which table.\n",
      "Pay attention to use date('now') function to get the current date, if the question involves \"today\".\n",
      "\n",
      "Use the following format:\n",
      "\n",
      "Question: Question here\n",
      "SQLQuery: SQL Query to run\n",
      "SQLResult: Result of the SQLQuery\n",
      "Answer: Final answer here\n",
      "\n",
      "Only use the following tables:\n",
      "\u001b[33;1m\u001b[1;3m{table_info}\u001b[0m\n",
      "\n",
      "Question: \u001b[33;1m\u001b[1;3m{input}\u001b[0m\n"
     ]
    }
   ],
   "source": [
    "chain.get_prompts()[0].pretty_print()"
   ]
  },
  {
   "cell_type": "code",
   "execution_count": 10,
   "metadata": {},
   "outputs": [
    {
     "data": {
      "text/plain": [
       "'[(8,)]'"
      ]
     },
     "execution_count": 10,
     "metadata": {},
     "output_type": "execute_result"
    }
   ],
   "source": [
    "from langchain_community.tools.sql_database.tool import QuerySQLDataBaseTool\n",
    "\n",
    "write_query = create_sql_query_chain(client, db)\n",
    "execute_query = QuerySQLDataBaseTool(db=db)\n",
    "\n",
    "chain = write_query | execute_query\n",
    "\n",
    "chain.invoke({\"question\": \"How many employees are there\"})"
   ]
  },
  {
   "cell_type": "code",
   "execution_count": 18,
   "metadata": {},
   "outputs": [
    {
     "data": {
      "text/plain": [
       "'There are a total of 8 employees.'"
      ]
     },
     "execution_count": 18,
     "metadata": {},
     "output_type": "execute_result"
    }
   ],
   "source": [
    "from operator import itemgetter\n",
    "from langchain_core.output_parsers import StrOutputParser\n",
    "from langchain_core.prompts import PromptTemplate\n",
    "from langchain_core.runnables import RunnablePassthrough\n",
    "\n",
    "answer_prompt = PromptTemplate.from_template(\n",
    "    \"\"\"Given the following user question, corresponding SQL query, and SQL result, answer the user question.\n",
    "\n",
    "Question: {question}\n",
    "SQL Query: {query}\n",
    "SQL Result: {result}\n",
    "Answer: \"\"\"\n",
    ")\n",
    "\n",
    "answer = answer_prompt | client | StrOutputParser()\n",
    "chain = (\n",
    "    RunnablePassthrough.assign(query=write_query).assign(\n",
    "        result=itemgetter(\"query\") | execute_query\n",
    "    )\n",
    "    | answer\n",
    ")\n",
    "\n",
    "chain.invoke({\"question\": \"How many employees are there\"})"
   ]
  },
  {
   "cell_type": "markdown",
   "metadata": {},
   "source": [
    "## Agents"
   ]
  },
  {
   "cell_type": "code",
   "execution_count": 22,
   "metadata": {},
   "outputs": [],
   "source": [
    "from langchain_community.agent_toolkits import create_sql_agent\n",
    "\n",
    "agent_executor = create_sql_agent(client, db=db, agent_type=\"openai-tools\", verbose=True)"
   ]
  },
  {
   "cell_type": "code",
   "execution_count": 23,
   "metadata": {},
   "outputs": [
    {
     "name": "stdout",
     "output_type": "stream",
     "text": [
      "\n",
      "\n",
      "\u001b[1m> Entering new SQL Agent Executor chain...\u001b[0m\n",
      "\u001b[32;1m\u001b[1;3m\n",
      "Invoking: `sql_db_list_tables` with `{}`\n",
      "\n",
      "\n",
      "\u001b[0m\u001b[38;5;200m\u001b[1;3mAlbum, Artist, Customer, Employee, Genre, Invoice, InvoiceLine, MediaType, Playlist, PlaylistTrack, Track\u001b[0m\u001b[32;1m\u001b[1;3m\n",
      "Invoking: `sql_db_schema` with `{'table_names': 'Invoice,Customer'}`\n",
      "\n",
      "\n",
      "\u001b[0m\u001b[33;1m\u001b[1;3m\n",
      "CREATE TABLE \"Customer\" (\n",
      "\t\"CustomerId\" INTEGER NOT NULL, \n",
      "\t\"FirstName\" NVARCHAR(40) NOT NULL, \n",
      "\t\"LastName\" NVARCHAR(20) NOT NULL, \n",
      "\t\"Company\" NVARCHAR(80), \n",
      "\t\"Address\" NVARCHAR(70), \n",
      "\t\"City\" NVARCHAR(40), \n",
      "\t\"State\" NVARCHAR(40), \n",
      "\t\"Country\" NVARCHAR(40), \n",
      "\t\"PostalCode\" NVARCHAR(10), \n",
      "\t\"Phone\" NVARCHAR(24), \n",
      "\t\"Fax\" NVARCHAR(24), \n",
      "\t\"Email\" NVARCHAR(60) NOT NULL, \n",
      "\t\"SupportRepId\" INTEGER, \n",
      "\tPRIMARY KEY (\"CustomerId\"), \n",
      "\tFOREIGN KEY(\"SupportRepId\") REFERENCES \"Employee\" (\"EmployeeId\")\n",
      ")\n",
      "\n",
      "/*\n",
      "3 rows from Customer table:\n",
      "CustomerId\tFirstName\tLastName\tCompany\tAddress\tCity\tState\tCountry\tPostalCode\tPhone\tFax\tEmail\tSupportRepId\n",
      "1\tLuís\tGonçalves\tEmbraer - Empresa Brasileira de Aeronáutica S.A.\tAv. Brigadeiro Faria Lima, 2170\tSão José dos Campos\tSP\tBrazil\t12227-000\t+55 (12) 3923-5555\t+55 (12) 3923-5566\tluisg@embraer.com.br\t3\n",
      "2\tLeonie\tKöhler\tNone\tTheodor-Heuss-Straße 34\tStuttgart\tNone\tGermany\t70174\t+49 0711 2842222\tNone\tleonekohler@surfeu.de\t5\n",
      "3\tFrançois\tTremblay\tNone\t1498 rue Bélanger\tMontréal\tQC\tCanada\tH2G 1A7\t+1 (514) 721-4711\tNone\tftremblay@gmail.com\t3\n",
      "*/\n",
      "\n",
      "\n",
      "CREATE TABLE \"Invoice\" (\n",
      "\t\"InvoiceId\" INTEGER NOT NULL, \n",
      "\t\"CustomerId\" INTEGER NOT NULL, \n",
      "\t\"InvoiceDate\" DATETIME NOT NULL, \n",
      "\t\"BillingAddress\" NVARCHAR(70), \n",
      "\t\"BillingCity\" NVARCHAR(40), \n",
      "\t\"BillingState\" NVARCHAR(40), \n",
      "\t\"BillingCountry\" NVARCHAR(40), \n",
      "\t\"BillingPostalCode\" NVARCHAR(10), \n",
      "\t\"Total\" NUMERIC(10, 2) NOT NULL, \n",
      "\tPRIMARY KEY (\"InvoiceId\"), \n",
      "\tFOREIGN KEY(\"CustomerId\") REFERENCES \"Customer\" (\"CustomerId\")\n",
      ")\n",
      "\n",
      "/*\n",
      "3 rows from Invoice table:\n",
      "InvoiceId\tCustomerId\tInvoiceDate\tBillingAddress\tBillingCity\tBillingState\tBillingCountry\tBillingPostalCode\tTotal\n",
      "1\t2\t2009-01-01 00:00:00\tTheodor-Heuss-Straße 34\tStuttgart\tNone\tGermany\t70174\t1.98\n",
      "2\t4\t2009-01-02 00:00:00\tUllevålsveien 14\tOslo\tNone\tNorway\t0171\t3.96\n",
      "3\t8\t2009-01-03 00:00:00\tGrétrystraat 63\tBrussels\tNone\tBelgium\t1000\t5.94\n",
      "*/\u001b[0m\u001b[32;1m\u001b[1;3m\n",
      "Invoking: `sql_db_query` with `{'query': 'SELECT BillingCountry, SUM(Total) AS TotalSales FROM Invoice GROUP BY BillingCountry ORDER BY TotalSales DESC'}`\n",
      "\n",
      "\n",
      "\u001b[0m\u001b[36;1m\u001b[1;3m[('USA', 523.06), ('Canada', 303.96), ('France', 195.1), ('Brazil', 190.1), ('Germany', 156.48), ('United Kingdom', 112.86), ('Czech Republic', 90.24), ('Portugal', 77.24), ('India', 75.26), ('Chile', 46.62), ('Ireland', 45.62), ('Hungary', 45.62), ('Austria', 42.62), ('Finland', 41.62), ('Netherlands', 40.62), ('Norway', 39.62), ('Sweden', 38.62), ('Spain', 37.62), ('Poland', 37.62), ('Italy', 37.62), ('Denmark', 37.62), ('Belgium', 37.62), ('Australia', 37.62), ('Argentina', 37.62)]\u001b[0m\u001b[32;1m\u001b[1;3mThe total sales per country are as follows:\n",
      "\n",
      "1. USA: $523.06\n",
      "2. Canada: $303.96\n",
      "3. France: $195.10\n",
      "4. Brazil: $190.10\n",
      "5. Germany: $156.48\n",
      "6. United Kingdom: $112.86\n",
      "7. Czech Republic: $90.24\n",
      "8. Portugal: $77.24\n",
      "9. India: $75.26\n",
      "10. Chile: $46.62\n",
      "\n",
      "Customers from the USA spent the most with a total of $523.06.\u001b[0m\n",
      "\n",
      "\u001b[1m> Finished chain.\u001b[0m\n"
     ]
    },
    {
     "data": {
      "text/plain": [
       "{'input': \"List the total sales per country. Which country's customers spent the most?\",\n",
       " 'output': 'The total sales per country are as follows:\\n\\n1. USA: $523.06\\n2. Canada: $303.96\\n3. France: $195.10\\n4. Brazil: $190.10\\n5. Germany: $156.48\\n6. United Kingdom: $112.86\\n7. Czech Republic: $90.24\\n8. Portugal: $77.24\\n9. India: $75.26\\n10. Chile: $46.62\\n\\nCustomers from the USA spent the most with a total of $523.06.'}"
      ]
     },
     "execution_count": 23,
     "metadata": {},
     "output_type": "execute_result"
    }
   ],
   "source": [
    "agent_executor.invoke(\n",
    "    {\n",
    "        \"input\": \"List the total sales per country. Which country's customers spent the most?\"\n",
    "    }\n",
    ")"
   ]
  },
  {
   "cell_type": "code",
   "execution_count": 22,
   "metadata": {},
   "outputs": [
    {
     "name": "stdout",
     "output_type": "stream",
     "text": [
      "\n",
      "\n",
      "\u001b[1m> Entering new SQL Agent Executor chain...\u001b[0m\n",
      "\u001b[32;1m\u001b[1;3m\n",
      "Invoking: `sql_db_list_tables` with `{}`\n",
      "\n",
      "\n",
      "\u001b[0m\u001b[38;5;200m\u001b[1;3mAlbum, Artist, Customer, Employee, Genre, Invoice, InvoiceLine, MediaType, Playlist, PlaylistTrack, Track\u001b[0m\u001b[32;1m\u001b[1;3m\n",
      "Invoking: `sql_db_schema` with `{'table_names': 'PlaylistTrack'}`\n",
      "\n",
      "\n",
      "\u001b[0m\u001b[33;1m\u001b[1;3m\n",
      "CREATE TABLE \"PlaylistTrack\" (\n",
      "\t\"PlaylistId\" INTEGER NOT NULL, \n",
      "\t\"TrackId\" INTEGER NOT NULL, \n",
      "\tPRIMARY KEY (\"PlaylistId\", \"TrackId\"), \n",
      "\tFOREIGN KEY(\"TrackId\") REFERENCES \"Track\" (\"TrackId\"), \n",
      "\tFOREIGN KEY(\"PlaylistId\") REFERENCES \"Playlist\" (\"PlaylistId\")\n",
      ")\n",
      "\n",
      "/*\n",
      "3 rows from PlaylistTrack table:\n",
      "PlaylistId\tTrackId\n",
      "1\t3402\n",
      "1\t3389\n",
      "1\t3390\n",
      "*/\u001b[0m\u001b[32;1m\u001b[1;3mThe `PlaylistTrack` table has the following columns:\n",
      "- PlaylistId (INTEGER, NOT NULL)\n",
      "- TrackId (INTEGER, NOT NULL)\n",
      "\n",
      "It has a composite primary key on the columns PlaylistId and TrackId. Additionally, there are foreign key constraints on the TrackId column referencing the Track table and on the PlaylistId column referencing the Playlist table.\n",
      "\n",
      "Here are 3 sample rows from the `PlaylistTrack` table:\n",
      "- PlaylistId: 1, TrackId: 3402\n",
      "- PlaylistId: 1, TrackId: 3389\n",
      "- PlaylistId: 1, TrackId: 3390\u001b[0m\n",
      "\n",
      "\u001b[1m> Finished chain.\u001b[0m\n"
     ]
    },
    {
     "data": {
      "text/plain": [
       "{'input': 'Describe the playlisttrack table',\n",
       " 'output': 'The `PlaylistTrack` table has the following columns:\\n- PlaylistId (INTEGER, NOT NULL)\\n- TrackId (INTEGER, NOT NULL)\\n\\nIt has a composite primary key on the columns PlaylistId and TrackId. Additionally, there are foreign key constraints on the TrackId column referencing the Track table and on the PlaylistId column referencing the Playlist table.\\n\\nHere are 3 sample rows from the `PlaylistTrack` table:\\n- PlaylistId: 1, TrackId: 3402\\n- PlaylistId: 1, TrackId: 3389\\n- PlaylistId: 1, TrackId: 3390'}"
      ]
     },
     "execution_count": 22,
     "metadata": {},
     "output_type": "execute_result"
    }
   ],
   "source": [
    "agent_executor.invoke({\"input\": \"Describe the playlisttrack table\"})\n",
    "# agent_executor.invoke(\"Describe the playlisttrack table\")"
   ]
  },
  {
   "cell_type": "markdown",
   "metadata": {},
   "source": [
    "## Spotify Dataset"
   ]
  },
  {
   "cell_type": "code",
   "execution_count": 13,
   "metadata": {},
   "outputs": [],
   "source": [
    "import pandas as pd\n",
    "from pyprojroot import here"
   ]
  },
  {
   "cell_type": "code",
   "execution_count": 14,
   "metadata": {},
   "outputs": [
    {
     "name": "stdout",
     "output_type": "stream",
     "text": [
      "(953, 25)\n",
      "['track_name', 'artist(s)_name', 'artist_count', 'released_year', 'released_month', 'released_day', 'in_spotify_playlists', 'in_spotify_charts', 'streams', 'in_apple_playlists', 'in_apple_charts', 'in_deezer_playlists', 'in_deezer_charts', 'in_shazam_charts', 'bpm', 'key', 'mode', 'danceability_%', 'valence_%', 'energy_%', 'acousticness_%', 'instrumentalness_%', 'liveness_%', 'speechiness_%', 'cover_url']\n"
     ]
    },
    {
     "data": {
      "text/html": [
       "<div>\n",
       "<style scoped>\n",
       "    .dataframe tbody tr th:only-of-type {\n",
       "        vertical-align: middle;\n",
       "    }\n",
       "\n",
       "    .dataframe tbody tr th {\n",
       "        vertical-align: top;\n",
       "    }\n",
       "\n",
       "    .dataframe thead th {\n",
       "        text-align: right;\n",
       "    }\n",
       "</style>\n",
       "<table border=\"1\" class=\"dataframe\">\n",
       "  <thead>\n",
       "    <tr style=\"text-align: right;\">\n",
       "      <th></th>\n",
       "      <th>track_name</th>\n",
       "      <th>artist(s)_name</th>\n",
       "      <th>artist_count</th>\n",
       "      <th>released_year</th>\n",
       "      <th>released_month</th>\n",
       "      <th>released_day</th>\n",
       "      <th>in_spotify_playlists</th>\n",
       "      <th>in_spotify_charts</th>\n",
       "      <th>streams</th>\n",
       "      <th>in_apple_playlists</th>\n",
       "      <th>...</th>\n",
       "      <th>key</th>\n",
       "      <th>mode</th>\n",
       "      <th>danceability_%</th>\n",
       "      <th>valence_%</th>\n",
       "      <th>energy_%</th>\n",
       "      <th>acousticness_%</th>\n",
       "      <th>instrumentalness_%</th>\n",
       "      <th>liveness_%</th>\n",
       "      <th>speechiness_%</th>\n",
       "      <th>cover_url</th>\n",
       "    </tr>\n",
       "  </thead>\n",
       "  <tbody>\n",
       "    <tr>\n",
       "      <th>0</th>\n",
       "      <td>Seven (feat. Latto) (Explicit Ver.)</td>\n",
       "      <td>Latto, Jung Kook</td>\n",
       "      <td>2</td>\n",
       "      <td>2023</td>\n",
       "      <td>7</td>\n",
       "      <td>14</td>\n",
       "      <td>553</td>\n",
       "      <td>147</td>\n",
       "      <td>141381703</td>\n",
       "      <td>43</td>\n",
       "      <td>...</td>\n",
       "      <td>B</td>\n",
       "      <td>Major</td>\n",
       "      <td>80</td>\n",
       "      <td>89</td>\n",
       "      <td>83</td>\n",
       "      <td>31</td>\n",
       "      <td>0</td>\n",
       "      <td>8</td>\n",
       "      <td>4</td>\n",
       "      <td>Not Found</td>\n",
       "    </tr>\n",
       "    <tr>\n",
       "      <th>1</th>\n",
       "      <td>LALA</td>\n",
       "      <td>Myke Towers</td>\n",
       "      <td>1</td>\n",
       "      <td>2023</td>\n",
       "      <td>3</td>\n",
       "      <td>23</td>\n",
       "      <td>1474</td>\n",
       "      <td>48</td>\n",
       "      <td>133716286</td>\n",
       "      <td>48</td>\n",
       "      <td>...</td>\n",
       "      <td>C#</td>\n",
       "      <td>Major</td>\n",
       "      <td>71</td>\n",
       "      <td>61</td>\n",
       "      <td>74</td>\n",
       "      <td>7</td>\n",
       "      <td>0</td>\n",
       "      <td>10</td>\n",
       "      <td>4</td>\n",
       "      <td>https://i.scdn.co/image/ab67616d0000b2730656d5...</td>\n",
       "    </tr>\n",
       "    <tr>\n",
       "      <th>2</th>\n",
       "      <td>vampire</td>\n",
       "      <td>Olivia Rodrigo</td>\n",
       "      <td>1</td>\n",
       "      <td>2023</td>\n",
       "      <td>6</td>\n",
       "      <td>30</td>\n",
       "      <td>1397</td>\n",
       "      <td>113</td>\n",
       "      <td>140003974</td>\n",
       "      <td>94</td>\n",
       "      <td>...</td>\n",
       "      <td>F</td>\n",
       "      <td>Major</td>\n",
       "      <td>51</td>\n",
       "      <td>32</td>\n",
       "      <td>53</td>\n",
       "      <td>17</td>\n",
       "      <td>0</td>\n",
       "      <td>31</td>\n",
       "      <td>6</td>\n",
       "      <td>https://i.scdn.co/image/ab67616d0000b273e85259...</td>\n",
       "    </tr>\n",
       "  </tbody>\n",
       "</table>\n",
       "<p>3 rows × 25 columns</p>\n",
       "</div>"
      ],
      "text/plain": [
       "                            track_name    artist(s)_name  artist_count  \\\n",
       "0  Seven (feat. Latto) (Explicit Ver.)  Latto, Jung Kook             2   \n",
       "1                                 LALA       Myke Towers             1   \n",
       "2                              vampire    Olivia Rodrigo             1   \n",
       "\n",
       "   released_year  released_month  released_day  in_spotify_playlists  \\\n",
       "0           2023               7            14                   553   \n",
       "1           2023               3            23                  1474   \n",
       "2           2023               6            30                  1397   \n",
       "\n",
       "   in_spotify_charts    streams  in_apple_playlists  ...  key   mode  \\\n",
       "0                147  141381703                  43  ...    B  Major   \n",
       "1                 48  133716286                  48  ...   C#  Major   \n",
       "2                113  140003974                  94  ...    F  Major   \n",
       "\n",
       "   danceability_%  valence_%  energy_% acousticness_% instrumentalness_%  \\\n",
       "0              80         89        83             31                  0   \n",
       "1              71         61        74              7                  0   \n",
       "2              51         32        53             17                  0   \n",
       "\n",
       "   liveness_%  speechiness_%  \\\n",
       "0           8              4   \n",
       "1          10              4   \n",
       "2          31              6   \n",
       "\n",
       "                                           cover_url  \n",
       "0                                          Not Found  \n",
       "1  https://i.scdn.co/image/ab67616d0000b2730656d5...  \n",
       "2  https://i.scdn.co/image/ab67616d0000b273e85259...  \n",
       "\n",
       "[3 rows x 25 columns]"
      ]
     },
     "metadata": {},
     "output_type": "display_data"
    }
   ],
   "source": [
    "df = pd.read_excel(here(\"data/csv_xlsx/spotify_dataset.xlsx\"))\n",
    "print(df.shape)\n",
    "print(df.columns.tolist())\n",
    "display(df.head(3))"
   ]
  },
  {
   "cell_type": "code",
   "execution_count": 25,
   "metadata": {},
   "outputs": [],
   "source": [
    "from langchain_community.utilities import SQLDatabase\n",
    "from sqlalchemy import create_engine\n",
    "db_path = str(here(\"data\")) + \"/csv_xlsx_sqldb.db\"\n",
    "db_path = f\"sqlite:///{db_path}\""
   ]
  },
  {
   "cell_type": "code",
   "execution_count": 26,
   "metadata": {},
   "outputs": [
    {
     "name": "stdout",
     "output_type": "stream",
     "text": [
      "sqlite\n",
      "['spotify', 'spotify_dataset']\n"
     ]
    },
    {
     "data": {
      "text/plain": [
       "'[(\\'Seven (feat. Latto) (Explicit Ver.)\\', \\'Latto, Jung Kook\\', 2, 2023, 7, 14, 553, 147, \\'141381703\\', 43, 263, 45, 10, 826.0, 125, \\'B\\', \\'Major\\', 80, 89, 83, 31, 0, 8, 4, \\'Not Found\\'), (\\'LALA\\', \\'Myke Towers\\', 1, 2023, 3, 23, 1474, 48, \\'133716286\\', 48, 126, 58, 14, 382.0, 92, \\'C#\\', \\'Major\\', 71, 61, 74, 7, 0, 10, 4, \\'https://i.scdn.co/image/ab67616d0000b2730656d5ce813ca3cc4b677e05\\'), (\\'vampire\\', \\'Olivia Rodrigo\\', 1, 2023, 6, 30, 1397, 113, \\'140003974\\', 94, 207, 91, 14, 949.0, 138, \\'F\\', \\'Major\\', 51, 32, 53, 17, 0, 31, 6, \\'https://i.scdn.co/image/ab67616d0000b273e85259a1cae29a8d91f2093d\\'), (\\'Cruel Summer\\', \\'Taylor Swift\\', 1, 2019, 8, 23, 7858, 100, \\'800840817\\', 116, 207, 125, 12, 548.0, 170, \\'A\\', \\'Major\\', 55, 58, 72, 11, 0, 11, 15, \\'https://i.scdn.co/image/ab67616d0000b273e787cffec20aa2a396a61647\\'), (\\'WHERE SHE GOES\\', \\'Bad Bunny\\', 1, 2023, 5, 18, 3133, 50, \\'303236322\\', 84, 133, 87, 15, 425.0, 144, \\'A\\', \\'Minor\\', 65, 23, 80, 14, 63, 11, 6, \\'https://i.scdn.co/image/ab67616d0000b273ab5c9cd818ad6ed3e9b79cd1\\'), (\\'Sprinter\\', \\'Dave, Central Cee\\', 2, 2023, 6, 1, 2186, 91, \\'183706234\\', 67, 213, 88, 17, 946.0, 141, \\'C#\\', \\'Major\\', 92, 66, 58, 19, 0, 8, 24, \\'https://i.scdn.co/image/ab67616d0000b273e3a09a9ae3f1fa102c110e60\\'), (\\'Ella Baila Sola\\', \\'Eslabon Armado, Peso Pluma\\', 2, 2023, 3, 16, 3090, 50, \\'725980112\\', 34, 222, 43, 13, 418.0, 148, \\'F\\', \\'Minor\\', 67, 83, 76, 48, 0, 8, 3, \\'https://i.scdn.co/image/ab67616d0000b2732071a0c79802d9375a53bfef\\'), (\\'Columbia\\', \\'Quevedo\\', 1, 2023, 7, 7, 714, 43, \\'58149378\\', 25, 89, 30, 13, 194.0, 100, \\'F\\', \\'Major\\', 67, 26, 71, 37, 0, 11, 4, \\'https://i.scdn.co/image/ab67616d0000b273a00a817b017c6f6bf8460be9\\'), (\\'fukumean\\', \\'Gunna\\', 1, 2023, 5, 15, 1096, 83, \\'95217315\\', 60, 210, 48, 11, 953.0, 130, \\'C#\\', \\'Minor\\', 85, 22, 62, 12, 0, 28, 9, \\'https://i.scdn.co/image/ab67616d0000b273017d5e26552345c4b1575b6c\\'), (\\'La Bebe - Remix\\', \\'Peso Pluma, Yng Lvcas\\', 2, 2023, 3, 17, 2953, 44, \\'553634067\\', 49, 110, 66, 13, 339.0, 170, \\'D\\', \\'Minor\\', 81, 56, 48, 21, 0, 8, 33, \\'Not Found\\'), (\\'un x100to\\', \\'Bad Bunny, Grupo Frontera\\', 2, 2023, 4, 17, 2876, 40, \\'505671438\\', 41, 205, 54, 12, 251.0, 83, \\'F#\\', \\'Minor\\', 57, 56, 72, 23, 0, 27, 5, \\'Not Found\\'), (\\'Super Shy\\', \\'NewJeans\\', 1, 2023, 7, 7, 422, 55, \\'58255150\\', 37, 202, 21, 5, 168.0, 150, \\'F\\', \\'Minor\\', 78, 52, 82, 18, 0, 15, 7, \\'https://i.scdn.co/image/ab67616d0000b2733d98a0ae7c78a3a9babaf8af\\'), (\\'Flowers\\', \\'Miley Cyrus\\', 1, 2023, 1, 12, 12211, 115, \\'1316855716\\', 300, 215, 745, 58, 1021.0, 118, None, \\'Major\\', 71, 65, 68, 6, 0, 3, 7, \\'https://i.scdn.co/image/ab67616d0000b27358039b5147731b6e52202e46\\'), (\\'Daylight\\', \\'David Kushner\\', 1, 2023, 4, 14, 3528, 98, \\'387570742\\', 80, 156, 182, 24, 1281.0, 130, \\'D\\', \\'Minor\\', 51, 32, 43, 83, 0, 9, 3, \\'https://i.scdn.co/image/ab67616d0000b27395ca6a9b4083a86c149934ae\\'), (\\'As It Was\\', \\'Harry Styles\\', 1, 2022, 3, 31, 23575, 130, \\'2513188493\\', 403, 198, 863, 46, None, 174, \\'F#\\', \\'Minor\\', 52, 66, 73, 34, 0, 31, 6, \\'https://i.scdn.co/image/ab67616d0000b2732e8ed79e177ff6011076f5f0\\'), (\\'Kill Bill\\', \\'SZA\\', 1, 2022, 12, 8, 8109, 77, \\'1163093654\\', 183, 162, 161, 12, 187.0, 89, \\'G#\\', \\'Major\\', 64, 43, 73, 5, 17, 16, 4, \\'https://i.scdn.co/image/ab67616d0000b2730c471c36970b9406233842a5\\'), (\\'Cupid - Twin Ver.\\', \\'Fifty Fifty\\', 1, 2023, 2, 24, 2942, 77, \\'496795686\\', 91, 212, 78, 6, 0.0, 120, \\'B\\', \\'Minor\\', 78, 76, 59, 43, 0, 34, 3, \\'https://i.scdn.co/image/ab67616d0000b27337c0b3670236c067c8e8bbcb\\'), (\\'What Was I Made For? [From The Motion Picture \"Barbie\"]\\', \\'Billie Eilish\\', 1, 2023, 7, 13, 873, 104, \\'30546883\\', 80, 227, 95, 24, 1173.0, 78, None, \\'Major\\', 44, 14, 9, 96, 0, 10, 3, \\'Not Found\\'), (\\'Classy 101\\', \\'Feid, Young Miko\\', 2, 2023, 3, 31, 2610, 40, \\'335222234\\', 43, 100, 54, 14, 187.0, 100, \\'B\\', \\'Major\\', 86, 67, 66, 14, 0, 12, 16, \\'https://i.scdn.co/image/ab67616d0000b27329ebee2b5fb008871fcd201a\\'), (\\'Like Crazy\\', \\'Jimin\\', 1, 2023, 3, 24, 596, 68, \\'363369738\\', 8, 104, 23, 2, 29.0, 120, \\'G\\', \\'Major\\', 63, 36, 73, 0, 0, 36, 4, \\'https://i.scdn.co/image/ab67616d0000b2732b46078245d0120690eb560d\\'), (\\'LADY GAGA\\', \\'Gabito Ballesteros, Junior H, Peso Pluma\\', 3, 2023, 6, 22, 332, 26, \\'86444842\\', 11, 163, 10, 4, 0.0, 140, \\'F\\', \\'Minor\\', 65, 87, 74, 22, 0, 42, 4, \\'Not Found\\'), (\\'I Can See You (TaylorÃ¯Â¿Â½Ã¯Â¿Â½Ã¯Â¿Â½s Version) (From The \\', \\'Taylor Swift\\', 1, 2023, 7, 7, 516, 38, \\'52135248\\', 73, 119, 42, 1, 150.0, 123, \\'F#\\', \\'Major\\', 69, 82, 76, 6, 0, 6, 3, \\'Not Found\\'), (\\'I Wanna Be Yours\\', \\'Arctic Monkeys\\', 1, 2013, 1, 1, 12859, 110, \\'1297026226\\', 24, 98, 582, 2, 73.0, 135, None, \\'Minor\\', 48, 44, 42, 12, 2, 11, 3, \\'https://i.scdn.co/image/ab67616d0000b2734ae1c4c5c45aabe565499163\\'), (\\'Peso Pluma: Bzrp Music Sessions, Vol. 55\\', \\'Bizarrap, Peso Pluma\\', 2, 2023, 5, 31, 1313, 40, \\'200647221\\', 17, 152, 32, 11, 139.0, 133, \\'F\\', \\'Minor\\', 85, 81, 67, 26, 0, 12, 5, \\'https://i.scdn.co/image/ab67616d0000b27315583045b2fdb7d7bab10e81\\'), (\\'Popular (with Playboi Carti & Madonna) - The Idol Vol. 1 (Music from the HBO Original Series)\\', \\'The Weeknd, Madonna, Playboi Carti\\', 3, 2023, 6, 2, 1945, 87, \\'115364561\\', 74, 182, 87, 14, 1093.0, 99, \\'C#\\', \\'Major\\', 85, 83, 68, 7, 0, 36, 20, \\'https://i.scdn.co/image/ab67616d0000b2734c8f092adc59b4bf4212389d\\'), (\\'SABOR FRESA\\', \\'Fuerza Regida\\', 1, 2023, 6, 22, 250, 26, \\'78300654\\', 16, 149, 10, 5, 168.0, 130, \\'G\\', \\'Minor\\', 79, 96, 86, 9, 0, 9, 9, \\'https://i.scdn.co/image/ab67616d0000b273cfe3eb72c48b93971e53efd9\\'), (\\'Calm Down (with Selena Gomez)\\', \\'RÃ¯Â¿Â½Ã¯Â¿Â½ma, Selena G\\', 2, 2022, 3, 25, 7112, 77, \\'899183384\\', 202, 119, 318, 38, 96.0, 107, \\'B\\', \\'Major\\', 80, 82, 80, 43, 0, 14, 4, \\'Not Found\\'), (\\'MOJABI GHOST\\', \\'Tainy, Bad Bunny\\', 2, 2023, 6, 29, 859, 40, \\'61245289\\', 35, 109, 41, 14, 211.0, 122, \\'F#\\', \\'Minor\\', 81, 74, 71, 14, 0, 56, 4, \\'https://i.scdn.co/image/ab67616d0000b273de7b9af78fbdda96c5a0635b\\'), (\\'Last Night\\', \\'Morgan Wallen\\', 1, 2023, 1, 31, 2420, 19, \\'429829812\\', 52, 107, 15, 1, 325.0, 204, \\'F#\\', \\'Major\\', 52, 52, 68, 46, 0, 15, 4, \\'https://i.scdn.co/image/ab67616d0000b273fc1df8423733f6f3c9e8dea2\\'), (\\'Dance The Night (From Barbie The Album)\\', \\'Dua Lipa\\', 1, 2023, 5, 25, 2988, 101, \\'127408954\\', 0, 0, 143, 38, 0.0, 110, \\'B\\', \\'Minor\\', 67, 78, 85, 2, 0, 33, 5, \\'https://i.scdn.co/image/ab67616d0000b2737dd3ba455ee3390cb55b0192\\'), (\\'Rush\\', \\'Troye Sivan\\', 1, 2023, 7, 13, 864, 78, \\'22581161\\', 71, 135, 50, 1, 294.0, 126, \\'F\\', \\'Minor\\', 74, 35, 84, 0, 0, 11, 6, \\'https://i.scdn.co/image/ab67616d0000b273a4ffb2049ffce92bdae5f559\\'), (\\'TULUM\\', \\'Peso Pluma, Grupo Frontera\\', 2, 2023, 6, 28, 266, 34, \\'52294266\\', 20, 185, 13, 8, 197.0, 168, \\'F#\\', \\'Major\\', 56, 63, 87, 39, 0, 11, 5, \\'https://i.scdn.co/image/ab67616d0000b2732fb583ed96f8f35cbf2897ba\\'), (\"Creepin\\'\", \\'The Weeknd, 21 Savage, Metro Boomin\\', 3, 2022, 12, 2, 6036, 88, \\'843957510\\', 113, 149, 245, 23, 27.0, 98, \\'C#\\', \\'Minor\\', 71, 17, 61, 36, 0, 8, 5, \\'https://i.scdn.co/image/ab67616d0000b273703d523982199b2d1f2c77f5\\'), (\\'Anti-Hero\\', \\'Taylor Swift\\', 1, 2022, 10, 21, 9082, 56, \\'999748277\\', 242, 142, 165, 9, 310.0, 97, \\'E\\', \\'Major\\', 64, 51, 63, 12, 0, 19, 5, \\'https://i.scdn.co/image/ab67616d0000b273bb54dde68cd23e2a268ae0f5\\'), (\\'TQG\\', \\'Karol G, Shakira\\', 2, 2023, 2, 23, 4284, 49, \\'618990393\\', 115, 123, 184, 18, 354.0, 180, \\'E\\', \\'Minor\\', 72, 61, 63, 67, 0, 9, 28, \\'https://i.scdn.co/image/ab67616d0000b27382de1ca074ae63cb18fce335\\'), (\\'Los del Espacio\\', \\'Big One, Duki, Lit Killah, Maria Becerra, FMK, Rusherking, Emilia, Tiago pzk\\', 8, 2023, 6, 1, 1150, 31, \\'123122413\\', 22, 33, 34, 7, 184.0, 120, None, \\'Major\\', 81, 63, 68, 11, 0, 11, 4, \\'Not Found\\'), (\\'FrÃ¯Â¿Â½Ã¯Â¿Â½gil (feat. Grupo Front\\', \\'Yahritza Y Su Esencia, Grupo Frontera\\', 2, 2023, 4, 7, 672, 34, \\'188933502\\', 19, 108, 24, 9, 212.0, 150, \\'F#\\', \\'Major\\', 61, 39, 73, 37, 0, 11, 3, \\'Not Found\\'), (\\'Blank Space\\', \\'Taylor Swift\\', 1, 2014, 1, 1, 11434, 53, \\'1355959075\\', 154, 123, 410, 2, 81.0, 96, \\'F\\', \\'Major\\', 75, 57, 68, 9, 0, 13, 6, \\'https://i.scdn.co/image/ab67616d0000b2739abdf14e6058bd3903686148\\'), (\\'Style\\', \\'Taylor Swift\\', 1, 2014, 1, 1, 7830, 42, \\'786181836\\', 94, 111, 151, 4, 82.0, 95, \\'D\\', \\'Major\\', 60, 48, 79, 0, 0, 12, 4, \\'https://i.scdn.co/image/ab67616d0000b2739abdf14e6058bd3903686148\\'), (\\'TQM\\', \\'Fuerza Regida\\', 1, 2023, 5, 19, 584, 28, \\'176553476\\', 16, 159, 15, 6, 100.0, 125, \\'F\\', \\'Minor\\', 79, 96, 85, 27, 0, 11, 6, \\'https://i.scdn.co/image/ab67616d0000b273832ea5d2f8c10f95fc3cc66d\\'), (\\'El Azul\\', \\'Junior H, Peso Pluma\\', 2, 2023, 2, 10, 692, 25, \\'354495408\\', 10, 107, 6, 3, 62.0, 144, \\'A\\', \\'Minor\\', 56, 84, 65, 23, 0, 10, 6, \\'https://i.scdn.co/image/ab67616d0000b27333ed356efed99b158c4267c6\\'), (\\'Sunflower - Spider-Man: Into the Spider-Verse\\', \\'Post Malone, Swae Lee\\', 2, 2018, 10, 9, 24094, 78, \\'2808096550\\', 372, 117, 843, 4, 69.0, 90, \\'D\\', \\'Major\\', 76, 91, 50, 54, 0, 7, 5, \\'https://i.scdn.co/image/ab67616d0000b273e2e352d89826aef6dbd5ff8f\\'), (\"I\\'m Good (Blue)\", \\'Bebe Rexha, David Guetta\\', 2, 2022, 8, 26, 12482, 80, \\'1109433169\\', 291, 184, 537, 45, 727.0, 128, \\'G\\', \\'Minor\\', 56, 38, 97, 4, 0, 35, 4, \\'Not Found\\'), (\\'See You Again\\', \\'Tyler, The Creator, Kali Uchis\\', 3, 2017, 7, 21, 13387, 64, \\'1047101291\\', 77, 58, 247, 1, 311.0, 79, \\'F#\\', \\'Major\\', 56, 58, 56, 37, 0, 11, 10, \\'https://i.scdn.co/image/ab67616d0000b2738940ac99f49e44f59e6f7fb3\\'), (\\'Barbie World (with Aqua) [From Barbie The Album]\\', \\'Nicki Minaj, Aqua, Ice Spice\\', 3, 2023, 6, 23, 1117, 80, \\'65156199\\', 82, 145, 65, 16, 1133.0, 144, None, \\'Major\\', 77, 75, 58, 52, 0, 23, 25, \\'https://i.scdn.co/image/ab67616d0000b2737e8f938c02fac3b564931116\\'), (\\'Angels Like You\\', \\'Miley Cyrus\\', 1, 2020, 11, 27, 3372, 19, \\'570515054\\', 65, 48, 138, 1, 102.0, 122, \\'F\\', \\'Major\\', 67, 49, 64, 10, 0, 10, 3, \\'https://i.scdn.co/image/ab67616d0000b2738cffb7c6c40759eaf8a5a142\\'), (\"I Ain\\'t Worried\", \\'OneRepublic\\', 1, 2022, 5, 13, 8431, 76, \\'1085685420\\', 241, 127, 458, 37, 332.0, 140, None, \\'Major\\', 71, 82, 81, 11, 0, 6, 5, \\'https://i.scdn.co/image/ab67616d0000b273ec96e006b8bdfc582610ec13\\'), (\\'Die For You\\', \\'The Weeknd\\', 1, 2016, 11, 24, 2483, 59, \\'1647990401\\', 68, 21, 24, 0, 259.0, 134, \\'C#\\', \\'Minor\\', 59, 51, 52, 9, 0, 15, 7, \\'https://i.scdn.co/image/ab67616d0000b273a048415db06a5b6fa7ec4e1a\\'), (\\'Starboy\\', \\'The Weeknd, Daft Punk\\', 2, 2016, 9, 21, 29536, 79, \\'2565529693\\', 281, 137, 2445, 1, 140.0, 186, \\'G\\', \\'Major\\', 68, 49, 59, 16, 0, 13, 28, \\'https://i.scdn.co/image/ab67616d0000b2734718e2b124f79258be7bc452\\'), (\\'Die For You - Remix\\', \\'Ariana Grande, The Weeknd\\', 2, 2023, 2, 24, 3408, 47, \\'518745108\\', 87, 86, 74, 1, 16.0, 67, \\'C#\\', \\'Minor\\', 53, 50, 53, 23, 0, 44, 7, \\'Not Found\\'), (\\'El Cielo\\', \\'Feid, Myke Towers, Sky Rompiendo\\', 3, 2023, 6, 2, 1298, 38, \\'107753850\\', 44, 64, 57, 10, 110.0, 106, \\'A#\\', \\'Minor\\', 72, 17, 64, 7, 0, 10, 5, \\'Not Found\\'), (\"Baby Don\\'t Hurt Me\", \\'David Guetta, Anne-Marie, Coi Leray\\', 3, 2023, 4, 6, 4277, 66, \\'177740666\\', 145, 111, 213, 11, 810.0, 128, \\'G\\', \\'Major\\', 60, 23, 91, 0, 0, 12, 3, \\'https://i.scdn.co/image/ab67616d0000b2730b4ef75c3728599aa4104f7a\\'), (\\'AMARGURA\\', \\'Karol G\\', 1, 2023, 2, 24, 1133, 39, \\'153372011\\', 14, 71, 23, 10, 176.0, 107, \\'F#\\', \\'Minor\\', 92, 55, 70, 18, 0, 15, 7, \\'https://i.scdn.co/image/ab67616d0000b27382de1ca074ae63cb18fce335\\'), (\\'(It Goes Like) Nanana - Edit\\', \\'Peggy Gou\\', 1, 2023, 6, 15, 2259, 59, \\'57876440\\', 0, 0, 109, 17, 0.0, 130, \\'G\\', \\'Minor\\', 67, 96, 88, 12, 19, 8, 4, \\'https://i.scdn.co/image/ab67616d0000b2739a8459318ff1a68ecfd74522\\'), (\\'Another Love\\', \\'Tom Odell\\', 1, 2012, 10, 15, 18371, 83, \\'1813673666\\', 250, 122, 3394, 19, None, 123, \\'E\\', \\'Minor\\', 45, 13, 54, 70, 0, 9, 4, \\'https://i.scdn.co/image/ab67616d0000b2731917a0f3f4152622a040913f\\'), (\\'Blinding Lights\\', \\'The Weeknd\\', 1, 2019, 11, 29, 43899, 69, \\'3703895074\\', 672, 199, 3421, 20, None, 171, \\'C#\\', \\'Major\\', 50, 38, 80, 0, 0, 9, 7, \\'https://i.scdn.co/image/ab67616d0000b2738863bc11d2aa12b54f5aeb36\\'), (\\'Moonlight\\', \\'Kali Uchis\\', 1, 2023, 2, 24, 2649, 42, \\'256483385\\', 67, 79, 57, 1, 615.0, 137, \\'G\\', \\'Minor\\', 64, 88, 72, 51, 0, 17, 5, \\'https://i.scdn.co/image/ab67616d0000b27381fccd758776d16b87721b17\\'), (\\'La Bachata\\', \\'Manuel Turizo\\', 1, 2022, 5, 26, 6804, 45, \\'1214083358\\', 139, 111, 161, 15, 210.0, 125, \\'G\\', \\'Minor\\', 84, 85, 68, 58, 0, 22, 4, \\'https://i.scdn.co/image/ab67616d0000b273c9f744b0d62da795bc21d04a\\'), (\\'S91\\', \\'Karol G\\', 1, 2023, 7, 14, 525, 41, \\'16011326\\', 34, 115, 39, 6, 216.0, 128, None, \\'Minor\\', 86, 42, 72, 59, 0, 9, 19, \\'https://i.scdn.co/image/ab67616d0000b273890cfb712167a0186918644e\\'), (\\'cardigan\\', \\'Taylor Swift\\', 1, 2020, 7, 24, 7923, 29, \\'812019557\\', 106, 112, 142, 4, 215.0, 130, None, \\'Minor\\', 61, 53, 58, 55, 0, 27, 4, \\'https://i.scdn.co/image/ab67616d0000b27395f754318336a07e85ec59bc\\'), (\\'TÃ¯Â¿Â½Ã¯Â¿\\', \\'dennis, MC Kevin o Chris\\', 2, 2023, 5, 4, 731, 15, \\'111947664\\', 27, 17, 73, 4, 167.0, 130, \\'B\\', \\'Major\\', 86, 59, 96, 50, 1, 9, 5, \\'Not Found\\'), (\"Boy\\'s a liar Pt. 2\", \\'PinkPantheress, Ice Spice\\', 2, 2023, 2, 3, 5184, 41, \\'156338624\\', 154, 84, 102, 14, 37.0, 133, \\'F\\', \\'Major\\', 70, 86, 81, 25, 0, 25, 5, \\'https://i.scdn.co/image/ab67616d0000b27342c5ba689b2e7cbc208a8fa7\\'), (\\'Left and Right (Feat. Jung Kook of BTS)\\', \\'Charlie Puth, BTS, Jung Kook\\', 3, 2022, 6, 24, 3107, 39, \\'720434240\\', 38, 0, 4, 0, 0.0, 101, \\'D\\', \\'Major\\', 88, 72, 59, 62, 0, 9, 3, \\'https://i.scdn.co/image/ab67616d0000b27335d2e0ed94a934f2cc46fa49\\'), (\\'BESO\\', \\'Rauw Alejandro, ROSALÃ¯Â¿Â½\\', 2, 2023, 3, 24, 4053, 50, \\'357925728\\', 82, 121, 182, 12, 171.0, 95, \\'F\\', \\'Minor\\', 77, 53, 64, 74, 0, 17, 14, \\'Not Found\\'), (\\'Hey Mor\\', \\'Ozuna, Feid\\', 2, 2022, 10, 6, 4637, 38, \\'674072710\\', 63, 79, 89, 11, 16.0, 98, \\'C#\\', \\'Minor\\', 90, 40, 59, 0, 0, 10, 29, \\'https://i.scdn.co/image/ab67616d0000b273125624f2e04f5a1ccb0dfb45\\'), (\\'Yellow\\', \\'Chris Molitor\\', 1, 1999, 1, 1, 31358, 43, \\'1755214421\\', 196, 2, 4053, 5, 0.0, 173, \\'B\\', \\'Major\\', 43, 28, 66, 0, 0, 23, 3, \\'https://i.scdn.co/image/ab67616d0000b273be011d16b9360a7dee109774\\'), (\\'Karma\\', \\'Taylor Swift\\', 1, 2022, 10, 21, 3818, 23, \\'404562836\\', 37, 55, 32, 0, 272.0, 90, \\'G#\\', \\'Major\\', 64, 10, 62, 7, 0, 48, 7, \\'https://i.scdn.co/image/ab67616d0000b273bb54dde68cd23e2a268ae0f5\\'), (\\'People\\', \\'Libianca\\', 1, 2022, 12, 2, 3506, 56, \\'373199958\\', 105, 64, 169, 8, 529.0, 198, \\'A#\\', \\'Minor\\', 59, 71, 42, 55, 0, 10, 7, \\'https://i.scdn.co/image/ab67616d0000b273fc342f95f117d48dbdde9735\\'), (\\'Overdrive\\', \\'Post Malone\\', 1, 2023, 7, 14, 410, 36, \\'14780425\\', 36, 32, 31, 1, 26.0, 140, \\'C#\\', \\'Major\\', 56, 48, 73, 0, 0, 35, 4, \\'https://i.scdn.co/image/ab67616d0000b27372694fed173af6d24d22eefb\\'), (\"Enchanted (Taylor\\'s Version)\", \\'Taylor Swift\\', 1, 2023, 7, 7, 148, 24, \\'39578178\\', 32, 93, 8, 2, 5.0, 82, \\'G#\\', \\'Major\\', 51, 22, 53, 1, 0, 15, 3, \\'https://i.scdn.co/image/ab67616d0000b2730b04da4f224b51ff86e0a481\\'), (\\'BABY HELLO\\', \\'Rauw Alejandro, Bizarrap\\', 2, 2023, 6, 23, 1004, 35, \\'54266102\\', 42, 80, 58, 3, 169.0, 130, \\'C#\\', \\'Minor\\', 77, 84, 89, 17, 0, 43, 5, \\'https://i.scdn.co/image/ab67616d0000b2730ff08e0346b55268e735a4e9\\'), (\\'Heat Waves\\', \\'Glass Animals\\', 1, 2020, 6, 28, 22543, 63, \\'2557975762\\', 386, 144, 707, 28, None, 81, \\'B\\', \\'Major\\', 76, 53, 53, 44, 0, 9, 9, \\'https://i.scdn.co/image/ab67616d0000b273712701c5e263efc8726b1464\\'), (\\'golden hour\\', \\'JVKE\\', 1, 2022, 7, 15, 4511, 36, \\'751134527\\', 70, 58, 109, 18, 230.0, 94, \\'C#\\', \\'Minor\\', 51, 14, 59, 65, 18, 25, 3, \\'https://i.scdn.co/image/ab67616d0000b273c2504e80ba2f258697ab2954\\'), (\\'Sweater Weather\\', \\'The Neighbourhood\\', 1, 2012, 5, 14, 16413, 61, \\'2282771485\\', 166, 87, 1056, 1, None, 124, \\'A#\\', \\'Major\\', 61, 41, 81, 5, 2, 10, 3, \\'https://i.scdn.co/image/ab67616d0000b2738265a736a1eb838ad5a0b921\\'), (\\'Quevedo: Bzrp Music Sessions, Vol. 52\\', \\'Bizarrap, Quevedo\\', 2, 2022, 7, 6, 8506, 45, \\'1356565093\\', 94, 65, 164, 14, 176.0, 128, \\'D\\', \\'Major\\', 62, 55, 78, 1, 3, 23, 4, \\'https://i.scdn.co/image/ab67616d0000b2731630dd349221a35ce03a0ccf\\'), (\\'Viva La Vida\\', \\'Coldplay\\', 1, 2008, 1, 1, 33898, 62, \\'1592909789\\', 233, 0, 4095, 9, 0.0, 138, \\'F\\', \\'Minor\\', 49, 42, 62, 9, 0, 11, 3, \\'https://i.scdn.co/image/ab67616d0000b273e21cc1db05580b6f2d2a3b6e\\'), (\\'Here With Me\\', \\'d4vd\\', 1, 2022, 7, 17, 3246, 23, \\'635412045\\', 94, 85, 68, 1, 84.0, 132, \\'E\\', \\'Major\\', 58, 27, 48, 50, 0, 12, 3, \\'https://i.scdn.co/image/ab67616d0000b27364fa1bda999f4fbd2b7c4bb7\\'), (\\'Unholy (feat. Kim Petras)\\', \\'Sam Smith, Kim Petras\\', 2, 2022, 9, 22, 8576, 42, \\'1230675890\\', 216, 108, 331, 26, 154.0, 131, \\'D\\', \\'Major\\', 71, 24, 47, 1, 0, 27, 9, \\'https://i.scdn.co/image/ab67616d0000b273a935e4689f15953311772cc4\\'), (\\'Yandel 150\\', \\'Yandel, Feid\\', 2, 2022, 12, 20, 3618, 38, \\'585695368\\', 47, 74, 80, 14, 194.0, 168, \\'F#\\', \\'Minor\\', 78, 58, 73, 5, 0, 10, 7, \\'https://i.scdn.co/image/ab67616d0000b273b2aec01b56eeb74610532700\\'), (\\'CORAZÃ¯Â¿Â½Ã¯Â¿Â½N VA\\', \\'Maria Becerra\\', 1, 2023, 6, 22, 370, 20, \\'43857627\\', 12, 16, 18, 4, 93.0, 98, \\'C#\\', \\'Major\\', 68, 40, 79, 33, 0, 30, 6, \\'Not Found\\'), (\\'Riptide\\', \\'Vance Joy\\', 1, 1975, 1, 1, 31123, 55, \\'2009094673\\', 300, 65, 1003, 1, 0.0, 102, \\'C#\\', \\'Major\\', 48, 50, 73, 43, 0, 15, 4, \\'https://i.scdn.co/image/ab67616d0000b273a9929deb093a6617d2493b03\\'), (\\'Until I Found You (with Em Beihold) - Em Beihold Version\\', \\'Em Beihold, Stephen Sanchez\\', 2, 2022, 4, 22, 2790, 30, \\'600976848\\', 60, 96, 71, 0, 115.0, 101, \\'A#\\', \\'Major\\', 34, 32, 57, 78, 0, 20, 3, \\'Not Found\\'), (\\'Novidade na Ã¯Â¿Â½Ã¯Â¿\\', \\'Mc Livinho, DJ Matt D\\', 2, 2023, 6, 23, 267, 9, \\'39709092\\', 9, 6, 25, 2, 72.0, 130, \\'F\\', \\'Major\\', 63, 36, 34, 76, 0, 35, 9, \\'Not Found\\'), (\"Back To December (Taylor\\'s Version)\", \\'Taylor Swift\\', 1, 2023, 7, 7, 139, 17, \\'39228929\\', 16, 72, 5, 0, 8.0, 142, \\'D\\', \\'Major\\', 50, 20, 64, 1, 0, 12, 3, \\'https://i.scdn.co/image/ab67616d0000b2730b04da4f224b51ff86e0a481\\'), (\\'STAY (with Justin Bieber)\\', \\'Justin Bieber, The Kid Laroi\\', 2, 2021, 7, 9, 17050, 36, \\'2665343922\\', 492, 99, 798, 31, 0.0, 170, \\'C#\\', \\'Major\\', 59, 48, 76, 4, 0, 10, 5, \\'Not Found\\'), (\\'El Merengue\\', \\'Marshmello, Manuel Turizo\\', 2, 2023, 3, 3, 2114, 44, \\'223633238\\', 80, 75, 110, 11, 323.0, 124, \\'G#\\', \\'Minor\\', 78, 70, 68, 3, 1, 11, 4, \\'https://i.scdn.co/image/ab67616d0000b273f404676577626a87d92cf33f\\'), (\\'Someone You Loved\\', \\'Lewis Capaldi\\', 1, 2018, 11, 8, 17836, 53, \\'2887241814\\', 440, 125, 1800, 0, None, 110, \\'C#\\', \\'Major\\', 50, 45, 41, 75, 0, 11, 3, \\'https://i.scdn.co/image/ab67616d0000b273fc2101e6889d6ce9025f85f2\\'), (\\'Me Porto Bonito\\', \\'Chencho Corleone, Bad Bunny\\', 2, 2022, 5, 6, 8870, 43, \\'1440757818\\', 104, 120, 141, 26, 49.0, 92, \\'C#\\', \\'Minor\\', 91, 43, 71, 9, 0, 9, 8, \\'Not Found\\'), (\\'Makeba\\', \\'Jain\\', 1, 2015, 6, 22, 6060, 53, \\'165484133\\', 150, 148, 2703, 22, 1451.0, 116, \\'D\\', \\'Major\\', 82, 40, 66, 39, 51, 25, 7, \\'https://i.scdn.co/image/ab67616d0000b27364ba66f8a81c52364e55db50\\'), (\\'MONTAGEM - FR PUNK\\', \\'Ayparia, unxbected\\', 2, 2012, 6, 20, 641, 50, \\'58054811\\', 1, 52, 8, 0, 1170.0, 129, \\'A\\', \\'Major\\', 63, 84, 82, 70, 8, 9, 7, \\'Not Found\\'), (\\'Fast Car\\', \\'Luke Combs\\', 1, 2023, 3, 24, 1446, 12, \\'157058870\\', 57, 97, 35, 0, 429.0, 98, \\'G#\\', \\'Major\\', 71, 67, 60, 19, 0, 12, 3, \\'https://i.scdn.co/image/ab67616d0000b273ca650d3a95022e0490434ba1\\'), (\\'What It Is (Solo Version)\\', \\'Doechii\\', 1, 2023, 3, 17, 804, 25, \\'95131998\\', 29, 76, 24, 0, 162.0, 172, \\'C#\\', \\'Minor\\', 74, 76, 76, 6, 0, 10, 9, \\'https://i.scdn.co/image/ab67616d0000b2732ee85751f6f503fa9a533eba\\'), (\\'Coco Chanel\\', \\'Bad Bunny, Eladio Carrion\\', 2, 2023, 3, 17, 1962, 38, \\'250305248\\', 28, 89, 29, 5, 82.0, 150, \\'D\\', \\'Major\\', 68, 14, 76, 4, 0, 10, 4, \\'Not Found\\'), (\\'DonÃ¯Â¿Â½Ã¯Â¿Â½Ã¯Â¿Â½t Bl\\', \\'Taylor Swift\\', 1, 2017, 11, 8, 4875, 23, \\'685032533\\', 19, 45, 0, 0, 10.0, 136, \\'A\\', \\'Minor\\', 62, 19, 53, 11, 0, 6, 4, \\'Not Found\\'), (\\'Still With You\\', \\'Jung Kook\\', 1, 2020, 6, 5, 31, 39, \\'38411956\\', 2, 107, 8, 0, 0.0, 88, \\'C#\\', \\'Minor\\', 53, 34, 47, 9, 0, 83, 4, \\'https://i.scdn.co/image/ab67616d0000b273a7f42c375578df426b37638d\\'), (\\'All My Life (feat. J. Cole)\\', \\'J. Cole, Lil Durk\\', 2, 2023, 5, 12, 2175, 23, \\'144565150\\', 69, 145, 69, 2, 478.0, 143, \\'D#\\', \\'Major\\', 83, 69, 44, 15, 0, 10, 33, \\'Not Found\\'), (\\'Say Yes To Heaven\\', \\'Lana Del Rey\\', 1, 2023, 3, 17, 2000, 46, \\'127567540\\', 49, 105, 63, 1, 0.0, 100, \\'F#\\', \\'Minor\\', 49, 17, 35, 71, 9, 11, 3, \\'https://i.scdn.co/image/ab67616d0000b273aa27708d07f49c82ff0d0dae\\'), (\\'Snooze\\', \\'SZA\\', 1, 2022, 12, 9, 2839, 25, \\'399686758\\', 58, 156, 42, 1, 236.0, 143, \\'F\\', \\'Major\\', 56, 39, 55, 14, 0, 11, 13, \\'https://i.scdn.co/image/ab67616d0000b27370dbc9f47669d120ad874ec1\\'), (\\'Summertime Sadness\\', \\'Lana Del Rey\\', 1, 2011, 1, 1, 20333, 52, \\'983637508\\', 89, 143, 1632, 3, 200.0, 112, \\'C#\\', \\'Minor\\', 56, 24, 66, 7, 0, 12, 3, \\'https://i.scdn.co/image/ab67616d0000b273f894be72a77b1488292672c7\\'), (\\'Take Two\\', \\'BTS\\', 1, 2023, 6, 9, 674, 47, \\'118482347\\', 20, 106, 25, 4, 78.0, 93, \\'G\\', \\'Major\\', 62, 57, 59, 3, 0, 38, 3, \\'https://i.scdn.co/image/ab67616d0000b2738a701e76e8845928f6cd81c8\\'), (\\'Lover\\', \\'Taylor Swift\\', 1, 2012, 1, 1, 8448, 23, \\'882831184\\', 160, 110, 163, 0, 5.0, 206, \\'G\\', \\'Major\\', 43, 50, 55, 50, 0, 15, 10, \\'https://i.scdn.co/image/ab67616d0000b273e787cffec20aa2a396a61647\\'), (\\'Too Many Nights (feat. Don Toliver & with Future)\\', \\'Future, Metro Boomin, Don Toliver\\', 3, 2022, 12, 2, 2110, 58, \\'286400165\\', 17, 119, 19, 2, 266.0, 88, \\'G\\', \\'Minor\\', 68, 17, 71, 15, 0, 11, 5, \\'https://i.scdn.co/image/ab67616d0000b27313e54d6687e65678d60466c2\\'), (\\'Chemical\\', \\'Post Malone\\', 1, 2023, 4, 14, 2528, 39, \\'172825906\\', 56, 91, 59, 3, 486.0, 170, \\'D\\', \\'Major\\', 50, 37, 90, 0, 0, 12, 5, \\'https://i.scdn.co/image/ab67616d0000b273f76f8deeba5370c98ad38f1c\\'), (\\'Mockingbird\\', \\'Eminem\\', 1, 2004, 1, 1, 12985, 61, \\'1241559043\\', 49, 98, 2394, 5, 204.0, 84, \\'E\\', \\'Minor\\', 62, 24, 67, 21, 0, 13, 28, \\'https://i.scdn.co/image/ab67616d0000b273726d48d93d02e1271774f023\\'), (\\'New Jeans\\', \\'NewJeans\\', 1, 2023, 7, 7, 77, 35, \\'29562220\\', 8, 166, 4, 4, 34.0, 134, \\'E\\', \\'Minor\\', 81, 53, 72, 51, 0, 12, 5, \\'https://i.scdn.co/image/ab67616d0000b2733d98a0ae7c78a3a9babaf8af\\'), (\\'Primera Cita\\', \\'Carin Leon\\', 1, 2022, 4, 20, 266, 27, \\'77309611\\', 6, 40, 6, 6, 202.0, 158, \\'A#\\', \\'Major\\', 54, 50, 40, 61, 0, 10, 6, \\'https://i.scdn.co/image/ab67616d0000b273dc0bb68a08c069cf8467f1bd\\'), (\\'Cold Heart - PNAU Remix\\', \\'Dua Lipa, Elton John, Pnau\\', 3, 2017, 11, 10, 21097, 52, \\'1605224506\\', 384, 135, 1034, 37, 312.0, 116, \\'C#\\', \\'Major\\', 80, 92, 80, 4, 0, 10, 3, \\'Not Found\\'), (\\'Dandelions\\', \\'Ruth B.\\', 1, 2017, 4, 28, 3423, 21, \\'1116995633\\', 41, 100, 59, 1, 32.0, 117, \\'C#\\', \\'Major\\', 61, 45, 69, 2, 0, 9, 3, \\'https://i.scdn.co/image/ab67616d0000b27397e971f3e53475091dc8d707\\'), (\\'Bones\\', \\'Imagine Dragons\\', 1, 2021, 3, 11, 4198, 44, \\'838079900\\', 98, 108, 327, 17, 153.0, 114, \\'F\\', \\'Minor\\', 77, 65, 72, 2, 0, 7, 5, \\'https://i.scdn.co/image/ab67616d0000b273fc915b69600dce2991a61f13\\'), (\\'Set Fire to the Rain\\', \\'Adele\\', 1, 2011, 1, 1, 14739, 43, \\'1163620694\\', 88, 112, 2163, 5, 519.0, 108, \\'D\\', \\'Minor\\', 61, 47, 68, 0, 0, 13, 3, \\'https://i.scdn.co/image/ab67616d0000b2732118bf9b198b05a95ded6300\\'), (\\'Money Trees\\', \\'Kendrick Lamar, Jay Rock\\', 2, 2012, 1, 1, 26792, 32, \\'1093605526\\', 69, 113, 695, 0, 458.0, 144, \\'E\\', \\'Minor\\', 74, 37, 53, 7, 0, 21, 10, \\'https://i.scdn.co/image/ab67616d0000b273d28d2ebdedb220e479743797\\'), (\\'Tak Segampang Itu\\', \\'Anggi Marito\\', 1, 2022, 12, 2, 213, 6, \\'179659294\\', 7, 6, 0, 0, 48.0, 130, \\'F\\', \\'Major\\', 51, 18, 44, 76, 0, 11, 3, \\'https://i.scdn.co/image/ab67616d0000b2732844c4e4e984ea408ab7fd6f\\'), (\\'LAGUNAS\\', \\'Jasiel NuÃ¯Â¿Â½Ã¯Â¿Â½ez, Peso P\\', 2, 2023, 6, 22, 58, 18, \\'39058561\\', 2, 106, 4, 2, 184.0, 116, \\'B\\', \\'Major\\', 77, 79, 62, 33, 1, 15, 3, \\'Not Found\\'), (\"Mine (Taylor\\'s Version)\", \\'Taylor Swift\\', 1, 2023, 7, 7, 99, 15, \\'36912123\\', 21, 52, 6, 1, 0.0, 121, \\'G\\', \\'Major\\', 65, 49, 78, 0, 0, 17, 4, \\'https://i.scdn.co/image/ab67616d0000b2730b04da4f224b51ff86e0a481\\'), (\\'Everybody Wants To Rule The World\\', \\'Tears For Fears\\', 1, 1985, 2, 17, 41751, 25, \\'1205951614\\', 101, 32, 2655, 0, 666.0, 112, \\'G\\', \\'Major\\', 64, 54, 81, 36, 0, 11, 6, \\'https://i.scdn.co/image/ab67616d0000b27322463d6939fec9e17b2a6235\\'), (\\'No Role Modelz\\', \\'J. Cole\\', 1, 2014, 12, 9, 21164, 36, \\'1791000570\\', 80, 65, 476, 0, 14.0, 100, \\'A#\\', \\'Minor\\', 70, 47, 52, 30, 0, 6, 33, \\'https://i.scdn.co/image/ab67616d0000b273c6e0948bbb0681ff29cdbae8\\'), (\\'Tattoo\\', \\'Loreen\\', 1, 2023, 2, 25, 2988, 59, \\'201660859\\', 74, 102, 145, 18, 925.0, 150, \\'D#\\', \\'Minor\\', 55, 30, 78, 24, 0, 12, 8, \\'https://i.scdn.co/image/ab67616d0000b2732b0ba87db609976eee193bd6\\'), (\\'Rara Vez\\', \\'Taiu, Milo j\\', 2, 2023, 2, 8, 893, 38, \\'248088961\\', 19, 23, 24, 3, 88.0, 120, \\'F\\', \\'Minor\\', 84, 96, 71, 18, 0, 34, 17, \\'https://i.scdn.co/image/ab67616d0000b273d467bed4e6b2a01ea8569100\\'), (\\'VAGABUNDO\\', \\'Sebastian Yatra, Manuel Turizo, BeÃ¯Â¿Â½Ã¯\\', 3, 2023, 5, 12, 1094, 34, \\'90839753\\', 40, 58, 47, 8, 203.0, 127, \\'B\\', \\'Minor\\', 82, 89, 85, 4, 0, 23, 6, \\'Not Found\\'), (\\'august\\', \\'Taylor Swift\\', 1, 2020, 7, 24, 7324, 22, \\'607123776\\', 25, 81, 61, 1, 44.0, 90, \\'F\\', \\'Major\\', 51, 42, 61, 53, 0, 9, 3, \\'https://i.scdn.co/image/ab67616d0000b27395f754318336a07e85ec59bc\\'), (\\'LUNA\\', \\'Junior H, Peso Pluma\\', 2, 2023, 6, 22, 201, 11, \\'55842345\\', 19, 117, 8, 1, 74.0, 128, \\'A\\', \\'Minor\\', 75, 79, 63, 33, 0, 15, 4, \\'Not Found\\'), (\\'Miracle (with Ellie Goulding)\\', \\'Calvin Harris, Ellie Goulding\\', 2, 2023, 3, 10, 5120, 48, \\'211050784\\', 161, 115, 246, 9, 638.0, 143, \\'A\\', \\'Major\\', 64, 31, 87, 4, 4, 8, 4, \\'https://i.scdn.co/image/ab67616d0000b273c58e22815048f8dfb1aa8bd0\\'), (\\'Nonsense\\', \\'Sabrina Carpenter\\', 1, 2022, 7, 15, 2346, 27, \\'342897938\\', 69, 12, 38, 8, 64.0, 139, \\'G#\\', \\'Major\\', 74, 68, 68, 3, 0, 26, 4, \\'https://i.scdn.co/image/ab67616d0000b273700f7bf79c9f063ad0362bdf\\'), (\\'Que Vuelvas\\', \\'Carin Leon, Grupo Frontera\\', 2, 2022, 12, 9, 763, 26, \\'2762\\', 21, 110, 21, 9, 71.0, 162, \\'A#\\', \\'Major\\', 49, 78, 64, 19, 0, 11, 4, \\'https://i.scdn.co/image/ab67616d0000b2735c7336d25ca101fbb0855647\\'), (\\'Por las Noches\\', \\'Peso Pluma\\', 1, 2021, 6, 11, 457, 24, \\'330346424\\', 8, 116, 4, 3, 2.0, 92, None, \\'Major\\', 81, 39, 60, 31, 0, 7, 3, \\'https://i.scdn.co/image/ab67616d0000b273427d9aa38866b43ed45f6b0c\\'), (\\'Feliz CumpleaÃ¯Â¿Â½Ã¯Â¿Â½os Fe\\', \\'Feid\\', 1, 2022, 8, 19, 3430, 38, \\'601863821\\', 45, 69, 52, 4, 3.0, 95, \\'F\\', \\'Major\\', 87, 57, 55, 10, 0, 29, 7, \\'Not Found\\'), (\"Can\\'t Hold Us (feat. Ray Dalton)\", \\'Ray Dalton, Ryan Lewis, Macklemore\\', 3, 2011, 8, 16, 6074, 52, \\'1953533826\\', 201, 44, 6551, 2, 0.0, 146, \\'D\\', \\'Major\\', 63, 88, 93, 3, 0, 10, 8, \\'Not Found\\'), (\\'Watermelon Sugar\\', \\'Harry Styles\\', 1, 2019, 11, 17, 21915, 34, \\'2322580122\\', 437, 115, 1212, 12, None, 95, None, \\'Major\\', 55, 56, 82, 12, 0, 34, 5, \\'https://i.scdn.co/image/ab67616d0000b27377fdcfda6535601aff081b6a\\'), (\\'lovely - Bonus Track\\', \\'Billie Eilish, Khalid\\', 2, 2017, 8, 11, 15032, 30, \\'2355719893\\', 221, 96, 1078, 2, 136.0, 115, \\'E\\', \\'Minor\\', 35, 12, 30, 93, 0, 10, 3, \\'Not Found\\'), (\\'Rauw Alejandro: Bzrp Music Sessions, Vol. 56\\', \\'Rauw Alejandro, Bizarrap\\', 2, 2023, 6, 21, 871, 32, \\'66902503\\', 25, 59, 32, 5, 88.0, 128, \\'B\\', \\'Major\\', 78, 59, 65, 10, 0, 26, 5, \\'Not Found\\'), (\\'Queencard\\', \\'(G)I-DLE\\', 1, 2023, 5, 15, 451, 33, \\'96273746\\', 10, 126, 7, 0, 148.0, 130, \\'E\\', \\'Minor\\', 82, 69, 83, 3, 0, 27, 5, \\'https://i.scdn.co/image/ab67616d0000b27382dd2427e6d302711b1b9616\\'), (\\'OMG\\', \\'NewJeans\\', 1, 2023, 1, 2, 1783, 27, \\'430977451\\', 26, 124, 15, 1, 22.0, 127, \\'A\\', \\'Minor\\', 80, 74, 77, 36, 0, 11, 4, \\'https://i.scdn.co/image/ab67616d0000b273d70036292d54f29e8b68ec01\\'), (\\'Radio\\', \\'Lana Del Rey\\', 1, 2011, 1, 1, 9389, 46, \\'284819874\\', 24, 122, 282, 3, 368.0, 150, \\'D\\', \\'Major\\', 42, 20, 86, 21, 0, 9, 9, \\'https://i.scdn.co/image/ab67616d0000b273f894be72a77b1488292672c7\\'), (\\'Shakira: Bzrp Music Sessions, Vol. 53\\', \\'Shakira, Bizarrap\\', 2, 2023, 1, 11, 5724, 44, \\'721975598\\', 119, 108, 254, 29, 22.0, 122, \\'D\\', \\'Minor\\', 78, 50, 63, 27, 0, 9, 5, \\'Not Found\\'), (\\'505\\', \\'Arctic Monkeys\\', 1, 2007, 4, 20, 13985, 25, \\'1217120710\\', 30, 80, 588, 1, 1.0, 140, None, \\'Major\\', 52, 20, 85, 0, 0, 7, 5, \\'https://i.scdn.co/image/ab67616d0000b2730c8ac83035e9588e8ad34b90\\'), (\\'Calling (Spider-Man: Across the Spider-Verse) (Metro Boomin & Swae Lee, NAV, feat. A Boogie Wit da Hoodie)\\', \\'Swae Lee, A Boogie Wit da Hoodie, Metro Boomin, NAV\\', 4, 2023, 6, 2, 1051, 16, \\'109276132\\', 31, 37, 31, 0, 189.0, 140, None, \\'Major\\', 63, 22, 54, 46, 0, 12, 8, \\'https://i.scdn.co/image/ab67616d0000b2736ed9aef791159496b286179f\\'), (\\'Trance (with Travis Scott & Young Thug)\\', \\'Travis Scott, Young Thug, Metro Boomin\\', 3, 2022, 12, 2, 1682, 46, \\'276259178\\', 24, 90, 30, 1, 176.0, 119, \\'C#\\', \\'Minor\\', 75, 48, 53, 18, 0, 18, 34, \\'https://i.scdn.co/image/ab67616d0000b27313e54d6687e65678d60466c2\\'), (\\'Tere Vaaste (From \"Zara Hatke Zara Bachke\")\\', \\'Sachin-Jigar, Shadab Faridi, Altamash Faridi, Amitabh Bhattacharya, Varun Jain\\', 5, 2023, 5, 22, 182, 8, \\'54225632\\', 3, 88, 1, 0, 52.0, 110, \\'G\\', \\'Minor\\', 76, 96, 72, 32, 0, 9, 4, \\'Not Found\\'), (\\'Perfect\\', \\'Ed Sheeran\\', 1, 2017, 1, 1, 16596, 13, \\'2559529074\\', 7, 0, 2094, 0, 0.0, 95, \\'G#\\', \\'Major\\', 60, 17, 45, 16, 0, 11, 2, \\'https://i.scdn.co/image/ab67616d0000b273ba5db46f4b838ef6027e6f96\\'), (\\'Romantic Homicide\\', \\'d4vd\\', 1, 2022, 7, 20, 2335, 23, \\'681583126\\', 82, 55, 50, 0, 9.0, 132, \\'F#\\', \\'Major\\', 56, 20, 55, 45, 1, 32, 3, \\'https://i.scdn.co/image/ab67616d0000b273bd1a52b3d5903ee01c216da0\\'), (\\'Believer\\', \\'Imagine Dragons\\', 1, 2017, 1, 31, 18986, 23, \\'2594040133\\', 250, 121, 2969, 10, 31.0, 125, \\'A#\\', \\'Minor\\', 77, 74, 78, 4, 0, 23, 11, \\'https://i.scdn.co/image/ab67616d0000b2735675e83f707f1d7271e5cf8a\\'), (\\'Novo BalanÃ¯Â¿Â½\\', \\'Veigh, Bvga Beatz, Supernova Ent, Prod Malax\\', 4, 2023, 5, 19, 283, 7, \\'81102253\\', 6, 9, 26, 1, 66.0, 124, \\'D#\\', \\'Minor\\', 84, 65, 50, 67, 0, 13, 6, \\'Not Found\\'), (\\'Gol Bolinha, Gol Quadrado 2\\', \\'Mc Pedrinho, DJ 900\\', 2, 2023, 6, 1, 293, 8, \\'11956641\\', 5, 2, 30, 2, 66.0, 133, \\'B\\', \\'Minor\\', 93, 68, 65, 42, 0, 12, 25, \\'https://i.scdn.co/image/ab67616d0000b27319d60821e80a801506061776\\'), (\\'Without Me\\', \\'Eminem\\', 1, 2002, 1, 1, 21081, 43, \\'1687664027\\', 98, 76, 3889, 5, 0.0, 112, \\'G\\', \\'Major\\', 92, 67, 66, 0, 0, 36, 9, \\'https://i.scdn.co/image/ab67616d0000b2736ca5c90113b30c3c43ffb8f4\\'), (\\'QUEMA\\', \\'Sog, Ryan Castro, Peso Pluma\\', 3, 2023, 7, 13, 437, 31, \\'11599388\\', 17, 29, 26, 3, 208.0, 97, None, \\'Major\\', 79, 92, 89, 5, 0, 6, 5, \\'Not Found\\'), (\\'Stargirl Interlude\\', \\'The Weeknd, Lana Del Rey\\', 2, 2016, 11, 24, 1275, 32, \\'611700552\\', 13, 8, 5, 0, 1.0, 90, \\'F\\', \\'Minor\\', 59, 52, 48, 38, 5, 10, 11, \\'https://i.scdn.co/image/ab67616d0000b273a048415db06a5b6fa7ec4e1a\\'), (\\'Ojitos Lindos\\', \\'Bomba EstÃ¯Â¿Â½Ã¯Â¿Â½reo, Bad B\\', 2, 2022, 5, 6, 6135, 38, \\'1133865788\\', 71, 113, 99, 13, 28.0, 80, \\'D#\\', \\'Minor\\', 65, 27, 69, 8, 0, 53, 4, \\'Not Found\\'), (\\'Somewhere Only We Know\\', \\'Keane\\', 1, 2004, 1, 1, 20015, 16, \\'1089402494\\', 107, 69, 5239, 0, 558.0, 172, \\'A\\', \\'Major\\', 45, 33, 59, 6, 0, 8, 3, \\'https://i.scdn.co/image/ab67616d0000b273045d0a38105fbe7bde43c490\\'), (\\'Those Eyes\\', \\'New West\\', 1, 2019, 5, 10, 1507, 14, \\'411747614\\', 24, 71, 44, 1, 195.0, 120, \\'E\\', \\'Major\\', 60, 24, 35, 73, 0, 31, 3, \\'https://i.scdn.co/image/ab67616d0000b2731bb5dc21200bfc56d8f7ef41\\'), (\\'El Gordo Trae El Mando\\', \\'Chino Pacas\\', 1, 2023, 1, 27, 539, 21, \\'255932395\\', 7, 71, 4, 2, 13.0, 140, \\'G\\', \\'Minor\\', 74, 96, 80, 18, 0, 5, 5, \\'https://i.scdn.co/image/ab67616d0000b2736a6ab689151163a1e9f60f36\\'), (\\'Mi Bello Angel\\', \\'Natanael Cano\\', 1, 2023, 6, 30, 86, 8, \\'31873544\\', 7, 76, 3, 1, 93.0, 128, \\'A\\', \\'Minor\\', 81, 90, 77, 1, 0, 9, 5, \\'https://i.scdn.co/image/ab67616d0000b273e2e093427065eaca9e2f2970\\'), (\\'Bye\\', \\'Peso Pluma\\', 1, 2023, 5, 26, 324, 14, \\'95053634\\', 13, 110, 8, 2, 60.0, 122, None, \\'Major\\', 78, 70, 81, 57, 0, 10, 5, \\'https://i.scdn.co/image/ab67616d0000b27310c8a001a18fd9f1b3552a9d\\'), (\\'Danza Kuduro\\', \\'Don Omar, Lucenzo\\', 2, 2010, 1, 1, 17138, 37, \\'1279434863\\', 119, 81, 974, 1, 503.0, 130, None, \\'Major\\', 47, 86, 92, 8, 0, 5, 24, \\'https://i.scdn.co/image/ab67616d0000b2734640a26eb27649006be29a94\\'), (\\'Nosso Quadro\\', \\'Ana Castela, AgroPlay\\', 2, 2023, 2, 2, 894, 9, \\'233801632\\', 14, 88, 66, 3, 72.0, 160, \\'A\\', \\'Major\\', 69, 61, 71, 33, 0, 31, 20, \\'Not Found\\'), (\\'Locked Out Of Heaven\\', \\'Bruno Mars\\', 1, 2012, 12, 5, 1622, 9, \\'1481349984\\', 0, 0, 356, 0, 0.0, 144, \\'F\\', \\'Major\\', 73, 87, 70, 6, 0, 28, 5, \\'https://i.scdn.co/image/ab67616d0000b273926f43e7cce571e62720fd46\\'), (\\'Un Finde | CROSSOVER #2\\', \\'Big One, FMK, Ke personajes\\', 3, 2023, 4, 4, 561, 14, \\'142095275\\', 4, 14, 12, 5, 56.0, 192, \\'B\\', \\'Major\\', 50, 85, 52, 11, 0, 28, 6, \\'Not Found\\'), (\\'Jimmy Cooks (feat. 21 Savage)\\', \\'Drake, 21 Savage\\', 2, 2022, 6, 17, 5871, 27, \\'618885532\\', 81, 121, 58, 1, 34.0, 163, None, \\'Major\\', 54, 40, 67, 0, 0, 9, 17, \\'https://i.scdn.co/image/ab67616d0000b2738dc0d801766a5aa6a33cbe37\\'), (\\'Counting Stars\\', \\'OneRepublic\\', 1, 2013, 1, 1, 29215, 43, \\'2011464183\\', 179, 97, 3394, 11, 153.0, 122, \\'C#\\', \\'Minor\\', 66, 48, 71, 6, 0, 12, 4, \\'https://i.scdn.co/image/ab67616d0000b2739e2f95ae77cf436017ada9cb\\'), (\\'Ghost\\', \\'Justin Bieber\\', 1, 2021, 3, 19, 5866, 24, \\'1167330737\\', 107, 38, 95, 0, None, 154, \\'D\\', \\'Major\\', 61, 41, 74, 21, 0, 40, 6, \\'https://i.scdn.co/image/ab67616d0000b273e6f407c7f3a0ec98845e4431\\'), (\\'Under The Influence\\', \\'Chris Brown\\', 1, 2019, 10, 4, 3859, 26, \\'929964809\\', 133, 181, 3, 0, None, 117, \\'A\\', \\'Minor\\', 73, 31, 69, 6, 0, 11, 4, \\'https://i.scdn.co/image/ab67616d0000b2739a494f7d8909a6cc4ceb74ac\\'), (\\'PRC\\', \\'Natanael Cano, Peso Pluma\\', 2, 2023, 1, 23, 961, 26, \\'436027885\\', 19, 143, 10, 6, 15.0, 138, \\'G\\', \\'Minor\\', 78, 89, 83, 10, 0, 12, 5, \\'Not Found\\'), (\\'Gasolina\\', \\'Daddy Yankee\\', 1, 2004, 7, 13, 6457, 18, \\'657723613\\', 98, 95, 453, 0, 454.0, 96, None, \\'Major\\', 86, 74, 80, 33, 0, 8, 6, \\'https://i.scdn.co/image/ab67616d0000b2736bdcdf82ecce36bff808a40c\\'), (\\'One Dance\\', \\'Drake, WizKid, Kyla\\', 3, 2016, 4, 4, 43257, 24, \\'2713922350\\', 433, 107, 3631, 0, 26.0, 104, \\'C#\\', \\'Major\\', 77, 36, 63, 1, 0, 36, 5, \\'https://i.scdn.co/image/ab67616d0000b2739416ed64daf84936d89e671c\\'), (\\'Enchanted\\', \\'Taylor Swift\\', 1, 2010, 1, 1, 4564, 16, \\'621660989\\', 24, 101, 113, 0, 40.0, 164, \\'G#\\', \\'Major\\', 45, 24, 62, 8, 0, 16, 3, \\'https://i.scdn.co/image/ab67616d0000b2730b04da4f224b51ff86e0a481\\'), (\\'Save Your Tears\\', \\'The Weeknd\\', 1, 2020, 3, 20, 12688, 13, \\'1591223784\\', 197, 115, 112, 0, 200.0, 118, None, \\'Major\\', 68, 61, 82, 2, 0, 50, 3, \\'https://i.scdn.co/image/ab67616d0000b2738863bc11d2aa12b54f5aeb36\\'), (\\'Sure Thing\\', \\'Miguel\\', 1, 2010, 5, 25, 13801, 19, \\'950906471\\', 137, 125, 435, 6, 285.0, 81, \\'B\\', \\'Minor\\', 68, 51, 60, 3, 0, 19, 10, \\'https://i.scdn.co/image/ab67616d0000b273d5a8395b0d80b8c48a5d851c\\'), (\\'Every Breath You Take - Remastered 2003\\', \\'The Police\\', 1, 1983, 1, 6, 22439, 19, \\'1593270737\\', 211, 74, 929, 0, 129.0, 117, \\'C#\\', \\'Major\\', 82, 73, 45, 54, 0, 7, 3, \\'https://i.scdn.co/image/ab67616d0000b2730408dc279dd7c7354ff41014\\'), (\\'The Night We Met\\', \\'Lord Huron\\', 1, 2015, 2, 2, 18515, 35, \\'1410088830\\', 70, 82, 939, 1, 162.0, 174, \\'D\\', \\'Major\\', 45, 10, 37, 97, 25, 64, 4, \\'https://i.scdn.co/image/ab67616d0000b2739d2efe43d5b7ebc7cb60ca81\\'), (\\'We Found Love\\', \\'Rihanna, Calvin Harris\\', 2, 2011, 1, 1, 36843, 21, \\'1235005533\\', 321, 91, 4607, 1, 58.0, 128, \\'C#\\', \\'Major\\', 73, 60, 77, 3, 0, 11, 4, \\'https://i.scdn.co/image/ab67616d0000b273bef074de9ca825bddaeb9f46\\'), (\\'When I Was Your Man\\', \\'Bruno Mars\\', 1, 2012, 12, 5, 2420, 11, \\'1661187319\\', 0, 0, 806, 0, 0.0, 145, None, \\'Major\\', 60, 43, 27, 94, 0, 14, 4, \\'https://i.scdn.co/image/ab67616d0000b273926f43e7cce571e62720fd46\\'), (\\'Let Me Down Slowly\\', \\'Alec Benjamin\\', 1, 2018, 5, 25, 5897, 19, \\'1374581173\\', 0, 0, 885, 0, 0.0, 150, \\'C#\\', \\'Minor\\', 65, 51, 55, 73, 0, 14, 3, \\'https://i.scdn.co/image/ab67616d0000b273459d675aa0b6f3b211357370\\'), (\\'Am I Dreaming (Metro Boomin & A$AP Rocky, Roisee)\\', \\'A$AP Rocky, Metro Boomin, Roisee\\', 3, 2023, 6, 2, 727, 16, \\'94186466\\', 17, 60, 28, 1, 44.0, 90, \\'A\\', \\'Minor\\', 60, 13, 53, 4, 0, 21, 4, \\'https://i.scdn.co/image/ab67616d0000b2736ed9aef791159496b286179f\\'), (\\'Do I Wanna Know?\\', \\'Arctic Monkeys\\', 1, 2013, 1, 1, 33783, 26, \\'1788326445\\', 133, 92, 2733, 1, 26.0, 85, \\'F\\', \\'Major\\', 55, 42, 53, 17, 0, 22, 3, \\'https://i.scdn.co/image/ab67616d0000b2734ae1c4c5c45aabe565499163\\'), (\\'Demons\\', \\'Imagine Dragons\\', 1, 2012, 1, 1, 26694, 13, \\'1840364617\\', 65, 82, 3425, 4, 13.0, 180, \\'D#\\', \\'Major\\', 33, 38, 71, 20, 0, 28, 5, \\'https://i.scdn.co/image/ab67616d0000b273b2b2747c89d2157b0b29fb6a\\'), (\\'Ã½Ã½Ã½Ã½Ã½Ã½Ã½Ã½Ã½Ã½Ã½Ã½\\', \\'YOASOBI\\', 1, 2023, 4, 12, 356, 16, \\'143573775\\', 35, 102, 8, 1, 117.0, 166, \\'C#\\', \\'Major\\', 57, 84, 94, 11, 0, 37, 9, \\'Not Found\\'), (\\'Reminder\\', \\'The Weeknd\\', 1, 2016, 11, 25, 6518, 17, \\'684675814\\', 45, 85, 238, 1, 47.0, 160, \\'G#\\', \\'Major\\', 71, 40, 50, 16, 0, 16, 22, \\'https://i.scdn.co/image/ab67616d0000b2734718e2b124f79258be7bc452\\'), (\\'Shake It Off\\', \\'Taylor Swift\\', 1, 2014, 1, 1, 21335, 13, \\'1113838873\\', 328, 70, 1378, 9, 20.0, 160, \\'G\\', \\'Major\\', 65, 95, 80, 5, 0, 41, 16, \\'https://i.scdn.co/image/ab67616d0000b2739abdf14e6058bd3903686148\\'), (\"Why\\'d You Only Call Me When You\\'re High?\", \\'Arctic Monkeys\\', 1, 2013, 1, 1, 23389, 29, \\'1267333350\\', 54, 70, 1089, 2, 1.0, 92, \\'D\\', \\'Major\\', 70, 81, 63, 4, 0, 8, 4, \\'Not Found\\'), (\\'SNAP\\', \\'Rosa Linn\\', 1, 2022, 3, 19, 3202, 18, \\'726307468\\', 148, 80, 226, 24, 0.0, 170, None, \\'Major\\', 56, 53, 64, 11, 0, 45, 6, \\'https://i.scdn.co/image/ab67616d0000b2731391b1fdb63da53e5b112224\\'), (\\'Shape of You\\', \\'Ed Sheeran\\', 1, 2017, 1, 6, 32181, 10, \\'3562543890\\', 33, 0, 6808, 7, 0.0, 96, \\'C#\\', \\'Minor\\', 83, 93, 65, 58, 0, 9, 8, \\'https://i.scdn.co/image/ab67616d0000b273ba5db46f4b838ef6027e6f96\\'), (\\'Night Changes\\', \\'One Direction\\', 1, 2014, 11, 17, 7124, 18, \\'1131090940\\', 60, 20, 2, 0, None, 120, \\'G#\\', \\'Major\\', 67, 40, 52, 86, 0, 12, 4, \\'https://i.scdn.co/image/ab67616d0000b273d304ba2d71de306812eebaf4\\'), (\\'Fin de Semana\\', \\'Oscar Maydon, Junior H\\', 2, 2023, 1, 13, 592, 14, \\'307370144\\', 11, 84, 6, 1, 30.0, 98, None, \\'Major\\', 70, 37, 54, 6, 0, 9, 8, \\'https://i.scdn.co/image/ab67616d0000b2739b7e1ea3815a172019bc5e56\\'), (\\'Creep\\', \\'Radiohead\\', 1, 1992, 9, 21, 36724, 7, \\'1271293243\\', 146, 72, 6807, 5, 80.0, 92, \\'G\\', \\'Major\\', 53, 12, 34, 1, 0, 12, 4, \\'https://i.scdn.co/image/ab67616d0000b273df55e326ed144ab4f5cecf95\\'), (\"Car\\'s Outside\", \\'James Arthur\\', 1, 2019, 10, 18, 794, 10, \\'265882712\\', 38, 25, 61, 0, 263.0, 150, \\'A\\', \\'Major\\', 34, 24, 56, 4, 0, 11, 3, \\'https://i.scdn.co/image/ab67616d0000b273dc16d839ab77c64bdbeb3660\\'), (\\'Apocalypse\\', \\'Cigarettes After Sex\\', 1, 2017, 3, 21, 13091, 17, \\'841749534\\', 61, 96, 790, 2, 116.0, 94, \\'F\\', \\'Major\\', 37, 17, 47, 2, 46, 11, 3, \\'https://i.scdn.co/image/ab67616d0000b27312b69bf576f5e80291f75161\\'), (\\'Cheques\\', \\'Shubh\\', 1, 2023, 5, 19, 67, 8, \\'47956378\\', 7, 10, 0, 0, 57.0, 90, \\'E\\', \\'Minor\\', 74, 36, 63, 26, 0, 27, 5, \\'https://i.scdn.co/image/ab67616d0000b2731a8c4618eda885a406958dd0\\'), (\\'Pink + White\\', \\'Frank Ocean\\', 1, 2016, 8, 20, 21574, 30, \\'806397070\\', 112, 68, 266, 1, 39.0, 160, \\'A\\', \\'Major\\', 54, 54, 55, 67, 0, 42, 11, \\'https://i.scdn.co/image/ab67616d0000b273c5649add07ed3720be9d5526\\'), (\\'Circles\\', \\'Post Malone\\', 1, 2019, 8, 30, 19664, 16, \\'2132335812\\', 391, 73, 633, 3, 37.0, 120, None, \\'Major\\', 70, 59, 75, 24, 0, 9, 4, \\'https://i.scdn.co/image/ab67616d0000b2739478c87599550dd73bfa7e02\\'), (\\'Just The Way You Are\\', \\'Bruno Mars\\', 1, 2010, 1, 1, 21106, 13, \\'1641426668\\', 82, 0, 2946, 0, 0.0, 109, \\'F\\', \\'Major\\', 63, 46, 85, 1, 0, 9, 5, \\'https://i.scdn.co/image/ab67616d0000b273f6b55ca93bd33211227b502b\\'), (\\'Take Me To Church\\', \\'Hozier\\', 1, 2013, 9, 13, 23804, 31, \\'2135158446\\', 187, 99, 4623, 1, 0.0, 129, \\'E\\', \\'Minor\\', 57, 41, 66, 63, 0, 12, 5, \\'https://i.scdn.co/image/ab67616d0000b2734ca68d59a4a29c856a4a39c2\\'), (\\'Bebe Dame\\', \\'Fuerza Regida, Grupo Frontera\\', 2, 2022, 12, 16, 849, 22, \\'367316268\\', 27, 129, 21, 7, 111.0, 157, \\'G\\', \\'Major\\', 54, 75, 60, 30, 0, 7, 5, \\'https://i.scdn.co/image/ab67616d0000b2735f3aef5159749e4b61686670\\'), (\\'You Belong With Me (TaylorÃ¯Â¿Â½Ã¯Â¿Â½Ã¯Â¿Â½s Ve\\', \\'Taylor Swift\\', 1, 2021, 4, 9, 2619, 12, \\'350381515\\', 47, 90, 1, 0, 7.0, 130, \\'F#\\', \\'Major\\', 63, 49, 73, 5, 0, 9, 3, \\'Not Found\\'), (\\'Titi Me PreguntÃ¯Â¿\\', \\'Bad Bunny\\', 1, 2022, 5, 6, 9037, 42, \\'1264310836\\', 124, 133, 139, 14, 166.0, 107, \\'F\\', \\'Minor\\', 65, 19, 72, 10, 0, 13, 25, \\'Not Found\\'), (\"Better Than Revenge (Taylor\\'s Version)\", \\'Taylor Swift\\', 1, 2023, 7, 7, 86, 11, \\'30343206\\', 3, 33, 3, 0, 1.0, 146, \\'B\\', \\'Minor\\', 50, 67, 89, 0, 0, 19, 8, \\'https://i.scdn.co/image/ab67616d0000b2730b04da4f224b51ff86e0a481\\'), (\\'Shut up My Moms Calling\\', \\'Hotel Ugly\\', 1, 2020, 2, 10, 1788, 14, \\'405136812\\', 1, 50, 19, 0, 19.0, 139, \\'A\\', \\'Minor\\', 48, 37, 41, 32, 0, 10, 10, \\'https://i.scdn.co/image/ab67616d0000b273350ab7a839c04bfd5225a9f5\\'), (\\'Have You Ever Seen The Rain?\\', \\'Creedence Clearwater Revival\\', 1, 1968, 7, 1, 15890, 14, \\'1145727611\\', 71, 37, 653, 0, 167.0, 116, None, \\'Major\\', 74, 76, 70, 7, 0, 13, 3, \\'https://i.scdn.co/image/ab67616d0000b27351f311c2fb06ad2789e3ff91\\'), (\\'Es un Secreto\\', \\'Plan B\\', 1, 2010, 7, 20, 492, 36, \\'540654286\\', 4, 3, 19, 0, 0.0, 95, \\'F#\\', \\'Minor\\', 84, 52, 77, 12, 0, 7, 4, \\'https://i.scdn.co/image/ab67616d0000b273913ef74e0272d688c512200b\\'), (\\'POLARIS - Remix\\', \\'Feid, Mora, Saiko, Quevedo\\', 4, 2023, 6, 8, 773, 33, \\'57312735\\', 20, 46, 21, 8, 99.0, 170, \\'G#\\', \\'Minor\\', 62, 55, 80, 15, 0, 37, 7, \\'Not Found\\'), (\\'Ditto\\', \\'NewJeans\\', 1, 2022, 12, 19, 1154, 22, \\'397582059\\', 28, 125, 11, 1, 51.0, 134, \\'F#\\', \\'Minor\\', 81, 18, 64, 3, 0, 10, 11, \\'https://i.scdn.co/image/ab67616d0000b273edf5b257be1d6593e81bb45f\\'), (\\'Take On Me\\', \\'a-ha\\', 1, 1984, 10, 19, 44927, 17, \\'1479115056\\', 34, 0, 5108, 6, 0.0, 84, \\'F#\\', \\'Minor\\', 57, 86, 90, 2, 0, 9, 5, \\'https://i.scdn.co/image/ab67616d0000b273e8dd4db47e7177c63b0b7d53\\'), (\\'Annihilate (Spider-Man: Across the Spider-Verse) (Metro Boomin & Swae Lee, Lil Wayne, Offset)\\', \\'Swae Lee, Lil Wayne, Offset, Metro Boomin\\', 4, 2023, 6, 2, 551, 4, \\'86773632\\', 13, 46, 20, 1, 10.0, 146, \\'B\\', \\'Minor\\', 61, 20, 48, 21, 0, 12, 6, \\'https://i.scdn.co/image/ab67616d0000b2736ed9aef791159496b286179f\\'), (\\'Angel Pt 1 (feat. Jimin of BTS, JVKE & Muni Long)\\', \\'Kodak Black, NLE Choppa, Muni Long, JVKE, Jimin\\', 5, 2023, 5, 1, 577, 14, \\'133753727\\', 22, 18, 15, 1, 0.0, 74, \\'A#\\', \\'Minor\\', 53, 24, 67, 11, 0, 10, 28, \\'https://i.scdn.co/image/ab67616d0000b273445afb6341d2685b959251cc\\'), (\\'AcrÃ¯Â¿Â½Ã¯Â¿Â½s\\', \\'Shakira\\', 1, 2023, 5, 11, 955, 29, \\'123124076\\', 37, 50, 79, 11, 31.0, 144, \\'B\\', \\'Major\\', 75, 35, 48, 84, 0, 10, 12, \\'Not Found\\'), (\\'AMG\\', \\'Natanael Cano, Gabito Ballesteros, Peso Pluma\\', 3, 2022, 11, 24, 995, 19, \\'463564958\\', 12, 117, 9, 5, 3.0, 136, \\'B\\', \\'Minor\\', 77, 79, 73, 15, 0, 27, 10, \\'https://i.scdn.co/image/ab67616d0000b273fbf10e7799f39fbcd301e55a\\'), (\\'Phir Aur Kya Chahiye (From \"Zara Hatke Zara Bachke\")\\', \\'Arijit Singh, Sachin-Jigar, Amitabha Bhattacharya\\', 3, 2023, 5, 15, 178, 6, \\'64533040\\', 6, 71, 1, 0, 31.0, 100, \\'E\\', \\'Major\\', 56, 53, 55, 53, 0, 12, 4, \\'Not Found\\'), (\\'S-Class\\', \\'Stray Kids\\', 1, 2023, 6, 2, 290, 19, \\'65496046\\', 9, 101, 5, 0, 73.0, 105, \\'F\\', \\'Minor\\', 89, 67, 78, 9, 0, 7, 33, \\'https://i.scdn.co/image/ab67616d0000b273e27ba26bc14a563bf3d09882\\'), (\\'Hits Different\\', \\'Taylor Swift\\', 1, 2023, 5, 26, 547, 0, \\'68616963\\', 15, 15, 6, 0, 0.0, 106, \\'F\\', \\'Major\\', 67, 24, 78, 15, 0, 30, 4, \\'https://i.scdn.co/image/ab67616d0000b273fa747621a53c8e2cc436dee0\\'), (\\'Chanel\\', \\'Becky G, Peso Pluma\\', 2, 2023, 3, 30, 681, 10, \\'161460990\\', 15, 92, 21, 2, 26.0, 132, \\'D\\', \\'Major\\', 85, 53, 68, 40, 0, 9, 4, \\'https://i.scdn.co/image/ab67616d0000b273c3bb167f0e78b15e5588c296\\'), (\\'Self Love (Spider-Man: Across the Spider-Verse) (Metro Boomin & Coi Leray)\\', \\'Metro Boomin, Coi Leray\\', 2, 2023, 6, 2, 332, 5, \\'70106975\\', 18, 41, 5, 0, 19.0, 120, \\'A\\', \\'Major\\', 78, 5, 30, 21, 0, 13, 5, \\'https://i.scdn.co/image/ab67616d0000b2736ed9aef791159496b286179f\\'), (\\'Area Codes\\', \\'Kaliii, Kaliii\\', 2, 2023, 3, 17, 1197, 13, \\'113509496\\', 44, 34, 25, 1, 171.0, 155, \\'C#\\', \\'Major\\', 82, 51, 39, 2, 0, 9, 49, \\'https://i.scdn.co/image/ab67616d0000b2733eecc265c134153c14794aab\\'), (\\'Abcdario\\', \\'Junior H, Eden MuÃ¯Â¿Â½Ã¯\\', 2, 2023, 5, 13, 262, 5, \\'89933133\\', 8, 60, 4, 1, 109.0, 129, \\'G#\\', \\'Major\\', 70, 42, 43, 78, 0, 11, 3, \\'Not Found\\'), (\\'Obsessed\\', \\'Abhijay Sharma, Riar Saab\\', 2, 2022, 9, 29, 161, 6, \\'71007139\\', 10, 79, 2, 0, 42.0, 135, \\'F\\', \\'Minor\\', 80, 85, 74, 62, 0, 8, 9, \\'Not Found\\'), (\\'PiÃ¯Â¿Â½Ã¯Â¿Â½man DeÃ¯Â¿\\', \\'Semicenk, DoÃ¯Â¿Â½Ã¯Â¿Â½u \\', 2, 2023, 6, 2, 185, 3, \\'43522589\\', 5, 6, 4, 1, 33.0, 98, \\'A#\\', \\'Minor\\', 73, 45, 62, 28, 0, 13, 13, \\'Not Found\\'), (\\'FLOWER\\', \\'JISOO\\', 1, 2023, 3, 31, 839, 18, \\'232896922\\', 20, 110, 20, 0, 69.0, 124, \\'A\\', \\'Minor\\', 84, 64, 39, 3, 0, 11, 4, \\'https://i.scdn.co/image/ab67616d0000b273f35b8a6c03cc633f734bd8ac\\'), (\\'All The Way Live (Spider-Man: Across the Spider-Verse) (Metro Boomin & Future, Lil Uzi Vert)\\', \\'Future, Lil Uzi Vert, Metro Boomin\\', 3, 2023, 6, 2, 259, 0, \\'37126685\\', 5, 17, 5, 0, 0.0, 135, \\'A\\', \\'Minor\\', 77, 28, 55, 18, 0, 22, 15, \\'https://i.scdn.co/image/ab67616d0000b2736ed9aef791159496b286179f\\'), (\\'Eyes Closed\\', \\'Ed Sheeran\\', 1, 2023, 3, 23, 2915, 30, \\'195576623\\', 116, 69, 107, 3, 675.0, 107, \\'D\\', \\'Major\\', 78, 39, 53, 30, 0, 11, 6, \\'https://i.scdn.co/image/ab67616d0000b273a0aea3805ed6a87aa394c796\\'), (\\'Escapism.\\', \\'RAYE, 070 Shake\\', 2, 2022, 10, 12, 5129, 25, \\'532336353\\', 116, 84, 114, 18, 348.0, 96, \\'D\\', \\'Major\\', 54, 25, 74, 14, 0, 9, 11, \\'https://i.scdn.co/image/ab67616d0000b27394e5237ce925531dbb38e75f\\'), (\\'La Jumpa\\', \\'Arcangel, Bad Bunny\\', 2, 2022, 11, 30, 3794, 34, \\'538115192\\', 47, 77, 53, 10, 8.0, 123, \\'G#\\', \\'Major\\', 71, 58, 70, 30, 0, 32, 19, \\'https://i.scdn.co/image/ab67616d0000b27330326b23e30ae93d4d48165b\\'), (\\'Karma (feat. Ice Spice)\\', \\'Taylor Swift, Ice Spice\\', 2, 2023, 5, 26, 588, 0, \\'46142772\\', 23, 21, 31, 0, 0.0, 90, \\'G#\\', \\'Major\\', 62, 7, 62, 6, 0, 58, 6, \\'https://i.scdn.co/image/ab67616d0000b273fa747621a53c8e2cc436dee0\\'), (\\'Superhero (Heroes & Villains) [with Future & Chris Brown]\\', \\'Future, Chris Brown, Metro Boomin\\', 3, 2022, 12, 2, 2959, 16, \\'401036314\\', 41, 69, 38, 0, 36.0, 117, \\'F\\', \\'Minor\\', 72, 45, 59, 14, 0, 20, 21, \\'https://i.scdn.co/image/ab67616d0000b27313e54d6687e65678d60466c2\\'), (\\'Las Morras\\', \\'BLESSD, Peso Pluma\\', 2, 2023, 4, 4, 291, 8, \\'127026613\\', 8, 78, 4, 1, 1.0, 133, \\'A\\', \\'Minor\\', 78, 90, 84, 31, 0, 7, 4, \\'Not Found\\'), (\\'CHORRITO PA LAS ANIMAS\\', \\'Feid\\', 1, 2022, 12, 2, 2321, 36, \\'345031710\\', 29, 65, 34, 5, 3.0, 96, \\'G#\\', \\'Minor\\', 74, 61, 83, 11, 0, 35, 6, \\'https://i.scdn.co/image/ab67616d0000b2737cc7b0d6a82846cd8b158f99\\'), (\\'Ch y la Pizza\\', \\'Fuerza Regida, Natanael Cano\\', 2, 2022, 12, 1, 536, 10, \\'288101651\\', 10, 72, 8, 3, 14.0, 149, \\'G#\\', \\'Major\\', 66, 85, 60, 40, 0, 14, 13, \\'https://i.scdn.co/image/ab67616d0000b273cdbbe3160616f7c85e2eb2c8\\'), (\\'Snow On The Beach (feat. More Lana Del Rey)\\', \\'Lana Del Rey, Taylor Swift\\', 2, 2023, 5, 26, 359, 2, \\'60350538\\', 1, 0, 9, 0, 0.0, 110, \\'F#\\', \\'Minor\\', 66, 32, 40, 81, 0, 11, 3, \\'Not Found\\'), (\\'Players\\', \\'Coi Leray\\', 1, 2022, 11, 30, 4096, 6, \\'335074782\\', 118, 48, 143, 0, 240.0, 105, \\'F#\\', \\'Major\\', 95, 62, 52, 3, 0, 5, 16, \\'https://i.scdn.co/image/ab67616d0000b2731cf7cf4446b496525e423465\\'), (\\'Bite Me\\', \\'ENHYPEN\\', 1, 2023, 5, 22, 349, 69, \\'76767396\\', 8, 96, 5, 0, 56.0, 105, \\'C#\\', \\'Major\\', 80, 69, 78, 28, 0, 11, 14, \\'https://i.scdn.co/image/ab67616d0000b2731d03b5e88cee6870778a4d27\\'), (\\'Stand By Me (feat. Morgan Wallen)\\', \\'Lil Durk, Morgan Wallen\\', 2, 2023, 5, 26, 381, 5, \\'46065667\\', 23, 82, 6, 0, 113.0, 134, \\'B\\', \\'Major\\', 76, 61, 58, 6, 0, 16, 3, \\'https://i.scdn.co/image/ab67616d0000b2736234c2c6d4bb935839ac4719\\'), (\\'Normal\\', \\'Feid\\', 1, 2022, 7, 8, 2461, 36, \\'459276435\\', 47, 66, 45, 5, 6.0, 170, \\'E\\', \\'Minor\\', 71, 59, 56, 4, 0, 27, 12, \\'https://i.scdn.co/image/ab67616d0000b273b764865b38a71f70dfd0dbcb\\'), (\\'Hummingbird (Metro Boomin & James Blake)\\', \\'James Blake, Metro Boomin\\', 2, 2023, 6, 2, 277, 1, \\'39666245\\', 1, 20, 5, 0, 1.0, 81, \\'F#\\', \\'Major\\', 59, 26, 60, 46, 1, 25, 13, \\'https://i.scdn.co/image/ab67616d0000b2736ed9aef791159496b286179f\\'), (\\'Seu Brilho Sumiu - Ao Vivo\\', \\'Israel & Rodolffo, Mari Fernandez\\', 2, 2023, 3, 1, 967, 5, \\'138517666\\', 7, 29, 51, 1, 29.0, 154, \\'F#\\', \\'Major\\', 63, 75, 92, 31, 0, 91, 5, \\'https://i.scdn.co/image/ab67616d0000b2736ccbcc3358d31dcba6e7c035\\'), (\\'Bad Habit\\', \\'Steve Lacy\\', 1, 2022, 6, 29, 8186, 12, \\'822633917\\', 155, 72, 131, 16, 29.0, 169, \\'C#\\', \\'Major\\', 69, 69, 51, 63, 0, 38, 4, \\'https://i.scdn.co/image/ab67616d0000b27368968350c2550e36d96344ee\\'), (\\'CUFF IT\\', \\'BeyoncÃ¯Â¿\\', 1, 2022, 7, 29, 7842, 10, \\'595900742\\', 215, 88, 330, 26, 23.0, 115, \\'G\\', \\'Major\\', 78, 64, 69, 4, 0, 7, 14, \\'Not Found\\'), (\\'Lilith (feat. SUGA of BTS) (Diablo IV Anthem)\\', \\'Halsey, Suga\\', 2, 2023, 6, 5, 215, 6, \\'51985779\\', 6, 14, 8, 2, 4.0, 84, \\'A\\', \\'Minor\\', 43, 14, 74, 1, 0, 19, 8, \\'https://i.scdn.co/image/ab67616d0000b273f19310c007c0fad365b0542e\\'), (\\'69\\', \\'Nicky Jam, Feid\\', 2, 2023, 5, 18, 1134, 22, \\'57945987\\', 39, 14, 48, 2, 3.0, 93, \\'G#\\', \\'Major\\', 79, 58, 62, 11, 0, 11, 23, \\'https://i.scdn.co/image/ab67616d0000b273ea97d86f1fa8532cd8c75188\\'), (\\'NiÃ¯Â¿Â½Ã¯Â¿Â½a Bo\\', \\'Sean Paul, Feid\\', 2, 2023, 4, 21, 1305, 34, \\'115010040\\', 29, 26, 43, 5, 44.0, 91, \\'G\\', \\'Major\\', 82, 47, 62, 10, 0, 10, 15, \\'Not Found\\'), (\\'Search & Rescue\\', \\'Drake\\', 1, 2023, 4, 7, 2066, 6, \\'175097833\\', 58, 70, 43, 0, 182.0, 142, \\'A#\\', \\'Minor\\', 82, 54, 44, 6, 0, 33, 7, \\'https://i.scdn.co/image/ab67616d0000b273cace8a4b2ff924c9e12e3a96\\'), (\\'AMERICA HAS A PROBLEM (feat. Kendrick Lamar)\\', \\'Kendrick Lamar, BeyoncÃ¯Â¿\\', 2, 2023, 5, 19, 896, 0, \\'57089066\\', 34, 2, 33, 0, 1.0, 126, \\'C#\\', \\'Major\\', 78, 20, 70, 1, 0, 16, 4, \\'Not Found\\'), (\\'Lavender Haze\\', \\'Taylor Swift\\', 1, 2022, 10, 21, 3763, 8, \\'488386797\\', 51, 43, 38, 10, 1.0, 97, \\'A#\\', \\'Major\\', 73, 10, 44, 26, 0, 16, 8, \\'https://i.scdn.co/image/ab67616d0000b273bb54dde68cd23e2a268ae0f5\\'), (\\'Link Up (Metro Boomin & Don Toliver, Wizkid feat. BEAM & Toian) - Spider-Verse Remix (Spider-Man: Across the Spider-Verse )\\', \\'WizKid, Toian, Metro Boomin, Don Toliver, Beam\\', 5, 2023, 6, 2, 197, 0, \\'32761689\\', 3, 10, 3, 0, 0.0, 101, \\'F\\', \\'Major\\', 92, 59, 51, 41, 51, 26, 8, \\'https://i.scdn.co/image/ab67616d0000b2736ed9aef791159496b286179f\\'), (\\'Efecto\\', \\'Bad Bunny\\', 1, 2022, 5, 6, 4004, 33, \\'1047480053\\', 34, 65, 43, 6, 2.0, 98, \\'G\\', \\'Minor\\', 80, 23, 48, 14, 0, 6, 5, \\'https://i.scdn.co/image/ab67616d0000b27349d694203245f241a1bcaa72\\'), (\\'Erro Gostoso - Ao Vivo\\', \\'Simone Mendes\\', 1, 2023, 1, 27, 984, 5, \\'153454328\\', 8, 57, 76, 2, 49.0, 154, \\'F#\\', \\'Major\\', 59, 63, 89, 18, 0, 80, 9, \\'https://i.scdn.co/image/ab67616d0000b2735559a80512e3986640b0140d\\'), (\\'Cupido\\', \\'Tini\\', 1, 2023, 2, 14, 1240, 24, \\'217672943\\', 51, 29, 63, 4, 54.0, 120, \\'A\\', \\'Major\\', 91, 63, 58, 52, 0, 31, 22, \\'https://i.scdn.co/image/ab67616d0000b273f5409c637b9a7244e0c0d11d\\'), (\\'Just Wanna Rock\\', \\'Lil Uzi Vert\\', 1, 2022, 10, 17, 3995, 13, \\'457184829\\', 72, 27, 47, 0, 0.0, 150, \\'B\\', \\'Major\\', 49, 4, 55, 7, 0, 6, 3, \\'https://i.scdn.co/image/ab67616d0000b273438799bc344744c12028bb0f\\'), (\\'Unstoppable\\', \\'Sia\\', 1, 2016, 1, 21, 7681, 13, \\'939844851\\', 119, 66, 1145, 2, None, 174, \\'A\\', \\'Major\\', 47, 27, 78, 11, 0, 10, 8, \\'https://i.scdn.co/image/ab67616d0000b273754b2fddebe7039fdb912837\\'), (\\'Until I Found You\\', \\'Stephen Sanchez\\', 1, 2021, 9, 1, 4427, 4, \\'726434358\\', 69, 100, 154, 20, 438.0, 202, \\'A#\\', \\'Major\\', 34, 25, 51, 69, 0, 18, 4, \\'https://i.scdn.co/image/ab67616d0000b2732bf0876d42b90a8852ad6244\\'), (\\'Rich Flex\\', \\'Drake, 21 Savage\\', 2, 2022, 11, 4, 4657, 18, \\'573633020\\', 84, 84, 42, 0, 23.0, 153, \\'B\\', \\'Minor\\', 56, 42, 52, 5, 0, 36, 24, \\'https://i.scdn.co/image/ab67616d0000b27302854a7060fccc1a66a4b5ad\\'), (\\'Easy On Me\\', \\'Adele\\', 1, 2021, 10, 14, 10195, 20, \\'1406111294\\', 258, 87, 657, 22, 9.0, 142, \\'F\\', \\'Major\\', 60, 13, 37, 58, 0, 13, 3, \\'https://i.scdn.co/image/ab67616d0000b27350dba34377a595e35f81b0e4\\'), (\\'CartÃ¯Â¿Â½Ã¯Â¿Â½o B\\', \\'MC Caverinha, KayBlack\\', 2, 2023, 5, 11, 269, 4, \\'71573339\\', 7, 2, 30, 1, 11.0, 108, \\'A\\', \\'Minor\\', 84, 55, 47, 26, 0, 20, 64, \\'Not Found\\'), (\\'Danger (Spider) (Offset & JID)\\', \\'Offset, JID\\', 2, 2023, 6, 2, 214, 0, \\'24975653\\', 3, 3, 6, 0, 0.0, 143, \\'B\\', \\'Major\\', 83, 25, 69, 4, 0, 23, 12, \\'https://i.scdn.co/image/ab67616d0000b2736ed9aef791159496b286179f\\'), (\\'Oi Balde - Ao Vivo\\', \\'ZÃ¯Â¿Â½Ã¯Â¿Â½ Neto & Crist\\', 1, 2023, 2, 14, 845, 2, \\'145458418\\', 12, 57, 47, 1, 33.0, 108, \\'D\\', \\'Major\\', 67, 55, 67, 60, 0, 80, 5, \\'Not Found\\'), (\\'The Real Slim Shady\\', \\'Eminem\\', 1, 2000, 1, 1, 20763, 27, \\'1424589568\\', 81, 53, 3271, 1, 17.0, 104, \\'F\\', \\'Minor\\', 95, 78, 66, 3, 0, 4, 6, \\'https://i.scdn.co/image/ab67616d0000b273dbb3dd82da45b7d7f31b1b42\\'), (\\'MERCHO\\', \\'Migrantes, LiL CaKe, Nico Valdi\\', 3, 2022, 12, 16, 1267, 20, \\'231332117\\', 41, 22, 56, 4, 84.0, 93, \\'F#\\', \\'Minor\\', 84, 96, 79, 43, 0, 18, 11, \\'Not Found\\'), (\\'The Color Violet\\', \\'Tory Lanez\\', 1, 2021, 12, 10, 2585, 32, \\'415932686\\', 3, 79, 21, 1, 54.0, 105, \\'F#\\', \\'Minor\\', 65, 46, 53, 16, 0, 9, 5, \\'https://i.scdn.co/image/ab67616d0000b2730c5f23cbf0b1ab7e37d0dc67\\'), (\\'Glimpse of Us\\', \\'Joji\\', 1, 2022, 6, 10, 6330, 6, \\'988515741\\', 109, 42, 158, 3, 31.0, 170, \\'G#\\', \\'Major\\', 44, 27, 32, 89, 0, 14, 5, \\'https://i.scdn.co/image/ab67616d0000b27308596cc28b9f5b00bfe08ae7\\'), (\\'Mejor Que Yo\\', \\'Mambo Kingz, DJ Luian, Anuel Aa\\', 3, 2023, 5, 4, 675, 1, \\'50847624\\', 9, 13, 11, 0, 1.0, 178, \\'C#\\', \\'Minor\\', 62, 56, 66, 18, 0, 12, 5, \\'Not Found\\'), (\\'Curtains\\', \\'Ed Sheeran\\', 1, 2023, 5, 5, 715, 0, \\'39893489\\', 37, 3, 27, 0, 50.0, 176, \\'F#\\', \\'Minor\\', 50, 44, 76, 10, 0, 32, 5, \\'https://i.scdn.co/image/ab67616d0000b273a0aea3805ed6a87aa394c796\\'), (\\'UNFORGIVEN (feat. Nile Rodgers)\\', \\'Nile Rodgers, LE SSERAFIM\\', 2, 2023, 5, 1, 327, 13, \\'92035115\\', 14, 110, 9, 0, 49.0, 104, \\'E\\', \\'Minor\\', 80, 38, 88, 11, 0, 11, 5, \\'Not Found\\'), (\\'Haegeum\\', \\'Agust D\\', 1, 2023, 4, 21, 244, 12, \\'118810253\\', 6, 84, 10, 2, 9.0, 85, \\'G\\', \\'Major\\', 70, 83, 84, 31, 0, 47, 30, \\'https://i.scdn.co/image/ab67616d0000b273fa9247b68471b82d2125651e\\'), (\\'ConexÃ¯Â¿Â½Ã¯Â¿Â½es de MÃ¯Â¿Â½Ã¯Â¿Â½fia (feat. Rich \\', \\'Rich The Kid, MatuÃ¯Â¿\\', 2, 2023, 4, 30, 385, 4, \\'77233241\\', 17, 7, 41, 1, 29.0, 117, \\'F#\\', \\'Minor\\', 77, 69, 58, 39, 0, 26, 5, \\'Not Found\\'), (\\'MIENTRAS ME CURO DEL CORA\\', \\'Karol G\\', 1, 2023, 2, 24, 1020, 35, \\'206399629\\', 15, 26, 30, 6, 0.0, 80, None, \\'Major\\', 52, 57, 48, 86, 0, 15, 39, \\'https://i.scdn.co/image/ab67616d0000b27382de1ca074ae63cb18fce335\\'), (\\'Never Felt So Alone\\', \\'Labrinth\\', 1, 2023, 4, 7, 1730, 3, \\'117747907\\', 46, 5, 51, 0, 20.0, 98, \\'F\\', \\'Major\\', 44, 36, 41, 50, 0, 38, 5, \\'https://i.scdn.co/image/ab67616d0000b2737dda6cb97a57f116f6fbf0be\\'), (\\'X SI VOLVEMOS\\', \\'Karol G, Romeo Santos\\', 2, 2023, 2, 2, 2127, 33, \\'266624541\\', 45, 80, 53, 8, 4.0, 178, \\'C#\\', \\'Minor\\', 79, 58, 78, 34, 0, 11, 25, \\'https://i.scdn.co/image/ab67616d0000b27382de1ca074ae63cb18fce335\\'), (\\'ceilings\\', \\'Lizzy McAlpine\\', 1, 2022, 4, 8, 3242, 9, \\'293186992\\', 67, 55, 48, 0, 6.0, 148, \\'A\\', \\'Major\\', 51, 27, 33, 48, 0, 22, 3, \\'https://i.scdn.co/image/ab67616d0000b273d370fdc4dbc47778b9b667c3\\'), (\\'Cupid\\', \\'Fifty Fifty\\', 1, 2023, 2, 24, 526, 10, \\'139681964\\', 15, 93, 30, 0, 320.0, 120, \\'D\\', \\'Major\\', 77, 94, 66, 65, 0, 38, 3, \\'https://i.scdn.co/image/ab67616d0000b27337c0b3670236c067c8e8bbcb\\'), (\\'I AM\\', \\'IVE\\', 1, 2023, 4, 10, 366, 15, \\'123132751\\', 16, 102, 7, 0, 55.0, 122, \\'E\\', \\'Minor\\', 68, 38, 88, 1, 0, 8, 5, \\'https://i.scdn.co/image/ab67616d0000b27325ef3cec1eceefd4db2f91c8\\'), (\\'Cupid Ã¯Â¿Â½Ã¯Â¿Â½Ã¯Â¿Â½ Twin Ver. (FIFTY FIFTY) Ã¯Â¿Â½Ã¯Â¿Â½Ã¯Â¿Â½ Spe\\', \\'sped up 8282\\', 1, 1997, 1, 1, 472, 2, \\'103762518\\', 0, 0, 6, 0, 0.0, 144, \\'F\\', \\'Major\\', 74, 75, 73, 42, 0, 9, 4, \\'Not Found\\'), (\\'Shorty Party\\', \\'Cartel De Santa, La Kelly\\', 2, 2023, 3, 4, 432, 12, \\'162887075\\', 8, 14, 12, 2, 33.0, 96, \\'D\\', \\'Major\\', 93, 47, 47, 33, 0, 10, 36, \\'https://i.scdn.co/image/ab67616d0000b273608e249e118a39e897f149ce\\'), (\\'Super\\', \\'SEVENTEEN\\', 1, 2023, 4, 24, 271, 12, \\'91221625\\', 16, 103, 9, 0, 55.0, 137, \\'G#\\', \\'Major\\', 77, 35, 88, 16, 0, 17, 9, \\'https://i.scdn.co/image/ab67616d0000b27380e31ba0c05187e6310ef264\\'), (\\'Slut Me Out\\', \\'NLE Choppa\\', 1, 2022, 4, 22, 816, 4, \\'190490915\\', 21, 4, 13, 0, 4.0, 121, \\'F#\\', \\'Minor\\', 94, 71, 61, 12, 0, 53, 42, \\'https://i.scdn.co/image/ab67616d0000b27349a4f6c9a637e02252a0076d\\'), (\\'Double Fantasy (with Future)\\', \\'The Weeknd, Future\\', 2, 2023, 4, 21, 1169, 0, \\'96180277\\', 36, 65, 28, 0, 0.0, 119, \\'A\\', \\'Minor\\', 60, 10, 57, 1, 0, 50, 3, \\'https://i.scdn.co/image/ab67616d0000b273c7d6fe09dfe4af1580e59705\\'), (\\'All Of The Girls You Loved Before\\', \\'Taylor Swift\\', 1, 2019, 8, 23, 1282, 6, \\'185240616\\', 26, 6, 19, 0, 5.0, 96, \\'D\\', \\'Major\\', 72, 40, 47, 71, 0, 13, 4, \\'https://i.scdn.co/image/ab67616d0000b2738481d8f15859aa5bae75ee17\\'), (\\'PROVENZA\\', \\'Karol G\\', 1, 2022, 4, 21, 6587, 34, \\'885093467\\', 114, 104, 147, 11, 20.0, 111, \\'C#\\', \\'Major\\', 87, 53, 52, 66, 1, 11, 5, \\'https://i.scdn.co/image/ab67616d0000b27382de1ca074ae63cb18fce335\\'), (\\'Princess Diana (with Nicki Minaj)\\', \\'Nicki Minaj, Ice Spice\\', 2, 2023, 4, 14, 1444, 4, \\'104992946\\', 0, 0, 0, 0, 0.0, 148, \\'A\\', \\'Major\\', 90, 74, 68, 14, 0, 10, 19, \\'Not Found\\'), (\\'Di Que Si\\', \\'Grupo Marca Registrada, Grupo Frontera\\', 2, 2023, 2, 3, 356, 10, \\'147290338\\', 4, 64, 4, 2, 37.0, 182, \\'A\\', \\'Major\\', 57, 80, 59, 8, 0, 6, 5, \\'https://i.scdn.co/image/ab67616d0000b273aab35973ece2916fb24244fe\\'), (\\'Shivers\\', \\'Ed Sheeran\\', 1, 2021, 9, 9, 10147, 30, \\'1302184087\\', 234, 71, 543, 18, None, 141, \\'D\\', \\'Major\\', 79, 82, 86, 28, 0, 4, 9, \\'https://i.scdn.co/image/ab67616d0000b273ef24c3fdbf856340d55cfeb2\\'), (\\'Igualito a Mi ApÃ¯Â¿\\', \\'Fuerza Regida, Peso Pluma\\', 2, 2022, 12, 30, 265, 6, \\'158950978\\', 8, 84, 5, 1, 4.0, 145, \\'E\\', \\'Minor\\', 76, 80, 81, 19, 0, 6, 9, \\'Not Found\\'), (\\'Shoong! (feat. LISA of BLACKPINK)\\', \\'TAEYANG, Lisa\\', 2, 2023, 4, 25, 351, 9, \\'76910644\\', 16, 90, 10, 0, 64.0, 110, \\'B\\', \\'Minor\\', 76, 26, 70, 1, 0, 41, 6, \\'https://i.scdn.co/image/ab67616d0000b27346313223adf2b6d726388328\\'), (\\'Komang\\', \\'Raim Laode\\', 1, 2022, 8, 16, 158, 4, \\'137123880\\', 5, 6, 1, 1, 18.0, 134, \\'G\\', \\'Major\\', 70, 35, 41, 41, 0, 10, 3, \\'https://i.scdn.co/image/ab67616d0000b273f20ec6ba1f431a90dbf2e8b6\\'), (\\'DESPECHÃ¯Â¿\\', \\'ROSALÃ¯Â¿Â½\\', 1, 2022, 7, 28, 7613, 33, \\'782369383\\', 180, 90, 422, 15, 55.0, 130, \\'G\\', \\'Major\\', 92, 78, 62, 18, 0, 6, 10, \\'Not Found\\'), (\\'Made You Look\\', \\'Meghan Trainor\\', 1, 2022, 10, 21, 3956, 6, \\'502574952\\', 142, 23, 127, 3, 16.0, 145, \\'A#\\', \\'Major\\', 84, 88, 53, 35, 0, 8, 7, \\'https://i.scdn.co/image/ab67616d0000b2731a4f1ada93881da4ca8060ff\\'), (\\'Watch This - ARIZONATEARS Pluggnb Remix\\', \\'sped up nightcore, ARIZONATEARS, Lil Uzi Vert\\', 3, 2023, 2, 5, 1638, 10, \\'207033255\\', 0, 0, 21, 0, 0.0, 130, \\'B\\', \\'Minor\\', 69, 36, 90, 1, 10, 15, 4, \\'Not Found\\'), (\\'No Se Va\\', \\'Grupo Frontera\\', 1, 2022, 4, 28, 924, 18, \\'404887295\\', 17, 80, 22, 9, 38.0, 173, None, \\'Major\\', 59, 69, 53, 12, 0, 23, 3, \\'https://i.scdn.co/image/ab67616d0000b273042b5cc9a1a0a97cfc005ee8\\'), (\\'Punto G\\', \\'Quevedo\\', 1, 2022, 11, 4, 1985, 35, \\'381161027\\', 34, 26, 37, 5, 1.0, 92, \\'B\\', \\'Minor\\', 75, 55, 76, 25, 0, 10, 15, \\'https://i.scdn.co/image/ab67616d0000b273efc1b8f6beda4abe848a84e0\\'), (\\'Lovers Rock\\', \\'TV Girl\\', 1, 2014, 6, 5, 6339, 13, \\'466231982\\', 3, 1, 36, 1, 37.0, 105, \\'F\\', \\'Minor\\', 56, 57, 87, 0, 1, 10, 4, \\'https://i.scdn.co/image/ab67616d0000b273e1bc1af856b42dd7fdba9f84\\'), (\\'METAMORPHOSIS\\', \\'INTERWORLD\\', 1, 2021, 11, 25, 1561, 24, \\'357580552\\', 18, 78, 24, 0, 30.0, 175, \\'G\\', \\'Minor\\', 59, 15, 64, 43, 90, 12, 10, \\'https://i.scdn.co/image/ab67616d0000b273b852a616ae3a49a1f6b0f16e\\'), (\\'Mami Chula\\', \\'Quevedo, Jhayco\\', 2, 2023, 4, 27, 875, 4, \\'61105704\\', 17, 13, 27, 0, 43.0, 120, \\'G\\', \\'Minor\\', 80, 33, 70, 22, 0, 9, 4, \\'Not Found\\'), (\\'En Paris\\', \\'El Chachito, Junior H\\', 2, 2022, 12, 24, 406, 5, \\'198275403\\', 3, 31, 2, 1, 0.0, 139, \\'D#\\', \\'Minor\\', 70, 77, 48, 37, 0, 12, 5, \\'https://i.scdn.co/image/ab67616d0000b27354c372ef8e7b53bb3c932ac5\\'), (\\'Set Me Free Pt.2\\', \\'Jimin\\', 1, 2023, 3, 17, 340, 13, \\'168448603\\', 4, 71, 16, 1, 9.0, 132, None, \\'Minor\\', 59, 56, 82, 12, 0, 12, 6, \\'https://i.scdn.co/image/ab67616d0000b2734f4ec2c2a865569bd4a067a4\\'), (\\'I Was Never There\\', \\'The Weeknd, Gesaffelstein\\', 2, 2018, 3, 29, 4188, 15, \\'705469769\\', 30, 70, 142, 0, 27.0, 114, \\'A#\\', \\'Major\\', 32, 17, 74, 14, 0, 17, 3, \\'https://i.scdn.co/image/ab67616d0000b2731f6a2a40bb692936879db730\\'), (\"Don\\'t ever say love me (feat. RM of BTS)\", \\'RM, Colde\\', 2, 2023, 5, 4, 105, 0, \\'34502215\\', 5, 9, 5, 0, 0.0, 145, \\'B\\', \\'Minor\\', 54, 19, 48, 36, 0, 37, 5, \\'Not Found\\'), (\\'Shut Down\\', \\'BLACKPINK\\', 1, 2022, 9, 16, 1524, 17, \\'482175240\\', 53, 120, 62, 0, 2.0, 110, None, \\'Major\\', 82, 67, 69, 0, 0, 18, 4, \\'https://i.scdn.co/image/ab67616d0000b273002ef53878df1b4e91c15406\\'), (\\'Gato de Noche\\', \\'Nengo Flow, Bad Bunny\\', 2, 2022, 12, 22, 2651, 30, \\'304118600\\', 21, 55, 32, 3, 0.0, 94, \\'G#\\', \\'Major\\', 89, 61, 66, 17, 0, 36, 16, \\'https://i.scdn.co/image/ab67616d0000b273ed132404686f567c8f793058\\'), (\\'Call Out My Name\\', \\'The Weeknd\\', 1, 2018, 3, 29, 11087, 6, \\'1449799467\\', 151, 107, 801, 1, 105.0, 134, \\'C#\\', \\'Major\\', 45, 17, 60, 21, 0, 33, 4, \\'https://i.scdn.co/image/ab67616d0000b2731f6a2a40bb692936879db730\\'), (\\'Like Crazy (English Version)\\', \\'Jimin\\', 1, 2023, 3, 24, 373, 19, \\'173627354\\', 4, 72, 5, 0, 5.0, 120, \\'G\\', \\'Major\\', 62, 32, 76, 0, 0, 39, 4, \\'https://i.scdn.co/image/ab67616d0000b2732b46078245d0120690eb560d\\'), (\\'Rosa Pastel\\', \\'Jasiel NuÃ¯Â¿Â½Ã¯Â¿Â½ez, Peso P\\', 2, 2023, 2, 2, 200, 4, \\'90025258\\', 8, 77, 2, 1, 1.0, 123, \\'G\\', \\'Minor\\', 70, 86, 68, 24, 0, 11, 4, \\'Not Found\\'), (\\'Sunroof\\', \\'Nicky Youre, Dazy\\', 2, 2021, 12, 3, 3741, 17, \\'652704649\\', 156, 35, 110, 19, 0.0, 131, \\'A#\\', \\'Major\\', 77, 84, 71, 35, 0, 15, 4, \\'https://i.scdn.co/image/ab67616d0000b273ecd970d1d2623b6c7fc6080c\\'), (\\'Lose Yourself - Soundtrack Version\\', \\'Eminem\\', 1, 2002, 1, 1, 32502, 21, \\'1829992958\\', 247, 54, 5567, 1, 51.0, 171, \\'D\\', \\'Major\\', 70, 6, 73, 1, 0, 36, 26, \\'Not Found\\'), (\\'Superman\\', \\'Eminem, Dina Rae\\', 2, 2002, 5, 26, 7615, 14, \\'655466831\\', 18, 51, 1005, 0, 0.0, 130, \\'E\\', \\'Minor\\', 80, 64, 76, 2, 0, 20, 6, \\'https://i.scdn.co/image/ab67616d0000b2736ca5c90113b30c3c43ffb8f4\\'), (\\'Mas Rica Que Ayer\\', \\'Mambo Kingz, DJ Luian, Anuel Aa\\', 3, 2023, 3, 2, 1208, 34, \\'146409671\\', 10, 41, 20, 0, 1.0, 94, \\'B\\', \\'Major\\', 82, 53, 67, 34, 0, 9, 8, \\'Not Found\\'), (\\'People Pt.2 (feat. IU)\\', \\'IU, Agust D\\', 2, 2023, 4, 7, 209, 4, \\'95816024\\', 4, 45, 11, 2, 24.0, 89, \\'G\\', \\'Minor\\', 73, 44, 57, 39, 0, 32, 6, \\'Not Found\\'), (\\'REMIX EXCLUSIVO\\', \\'Feid\\', 1, 2023, 3, 17, 1235, 9, \\'117206995\\', 20, 8, 15, 0, 6.0, 87, \\'F\\', \\'Minor\\', 65, 71, 56, 4, 0, 15, 20, \\'https://i.scdn.co/image/ab67616d0000b273adf20f92c3153248fd7aac9e\\'), (\\'ArcÃ¯Â¿Â½Ã¯Â¿Â½ngel: Bzrp Music Sessions, Vol\\', \\'Arcangel, Bizarrap\\', 2, 2023, 3, 22, 654, 3, \\'100409613\\', 11, 3, 18, 1, 1.0, 124, \\'B\\', \\'Minor\\', 72, 79, 78, 55, 0, 15, 30, \\'Not Found\\'), (\\'DOGTOOTH\\', \\'Tyler, The Creator\\', 2, 2023, 3, 27, 1479, 0, \\'80758350\\', 23, 0, 18, 0, 33.0, 78, \\'G#\\', \\'Major\\', 71, 80, 65, 51, 0, 22, 32, \\'https://i.scdn.co/image/ab67616d0000b273aa95a399fd30fbb4f6f59fca\\')]'"
      ]
     },
     "execution_count": 26,
     "metadata": {},
     "output_type": "execute_result"
    }
   ],
   "source": [
    "db = SQLDatabase(engine=engine)\n",
    "print(db.dialect)\n",
    "print(db.get_usable_table_names())\n",
    "db.run(\"SELECT * FROM spotify_dataset;\")"
   ]
  },
  {
   "cell_type": "code",
   "execution_count": 27,
   "metadata": {},
   "outputs": [],
   "source": [
    "from langchain_community.agent_toolkits import create_sql_agent\n",
    "agent_executor = create_sql_agent(client, db=db, agent_type=\"openai-tools\", verbose=True)"
   ]
  },
  {
   "cell_type": "code",
   "execution_count": 28,
   "metadata": {},
   "outputs": [
    {
     "name": "stdout",
     "output_type": "stream",
     "text": [
      "\n",
      "\n",
      "\u001b[1m> Entering new SQL Agent Executor chain...\u001b[0m\n",
      "\u001b[32;1m\u001b[1;3m\n",
      "Invoking: `sql_db_list_tables` with `{}`\n",
      "\n",
      "\n",
      "\u001b[0m\u001b[38;5;200m\u001b[1;3mspotify, spotify_dataset\u001b[0m\u001b[32;1m\u001b[1;3m\n",
      "Invoking: `sql_db_schema` with `{'table_names': 'spotify'}`\n",
      "\n",
      "\n",
      "\u001b[0m\u001b[33;1m\u001b[1;3m\n",
      "CREATE TABLE spotify (\n",
      "\ttrack_name TEXT, \n",
      "\t\"artist(s)_name\" TEXT, \n",
      "\tartist_count BIGINT, \n",
      "\treleased_year BIGINT, \n",
      "\treleased_month BIGINT, \n",
      "\treleased_day BIGINT, \n",
      "\tin_spotify_playlists BIGINT, \n",
      "\tin_spotify_charts BIGINT, \n",
      "\tstreams TEXT, \n",
      "\tin_apple_playlists BIGINT, \n",
      "\tin_apple_charts BIGINT, \n",
      "\tin_deezer_playlists BIGINT, \n",
      "\tin_deezer_charts BIGINT, \n",
      "\tin_shazam_charts FLOAT, \n",
      "\tbpm BIGINT, \n",
      "\t\"key\" TEXT, \n",
      "\tmode TEXT, \n",
      "\t\"danceability_%\" BIGINT, \n",
      "\t\"valence_%\" BIGINT, \n",
      "\t\"energy_%\" BIGINT, \n",
      "\t\"acousticness_%\" BIGINT, \n",
      "\t\"instrumentalness_%\" BIGINT, \n",
      "\t\"liveness_%\" BIGINT, \n",
      "\t\"speechiness_%\" BIGINT, \n",
      "\tcover_url TEXT\n",
      ")\n",
      "\n",
      "/*\n",
      "3 rows from spotify table:\n",
      "track_name\tartist(s)_name\tartist_count\treleased_year\treleased_month\treleased_day\tin_spotify_playlists\tin_spotify_charts\tstreams\tin_apple_playlists\tin_apple_charts\tin_deezer_playlists\tin_deezer_charts\tin_shazam_charts\tbpm\tkey\tmode\tdanceability_%\tvalence_%\tenergy_%\tacousticness_%\tinstrumentalness_%\tliveness_%\tspeechiness_%\tcover_url\n",
      "Seven (feat. Latto) (Explicit Ver.)\tLatto, Jung Kook\t2\t2023\t7\t14\t553\t147\t141381703\t43\t263\t45\t10\t826.0\t125\tB\tMajor\t80\t89\t83\t31\t0\t8\t4\tNot Found\n",
      "LALA\tMyke Towers\t1\t2023\t3\t23\t1474\t48\t133716286\t48\t126\t58\t14\t382.0\t92\tC#\tMajor\t71\t61\t74\t7\t0\t10\t4\thttps://i.scdn.co/image/ab67616d0000b2730656d5ce813ca3cc4b677e05\n",
      "vampire\tOlivia Rodrigo\t1\t2023\t6\t30\t1397\t113\t140003974\t94\t207\t91\t14\t949.0\t138\tF\tMajor\t51\t32\t53\t17\t0\t31\t6\thttps://i.scdn.co/image/ab67616d0000b273e85259a1cae29a8d91f2093d\n",
      "*/\u001b[0m\u001b[32;1m\u001b[1;3m\n",
      "Invoking: `sql_db_query` with `{'query': 'SELECT track_name, streams FROM spotify WHERE \"artist(s)_name\" = \\'Taylor Swift\\' ORDER BY streams DESC LIMIT 5'}`\n",
      "\n",
      "\n",
      "\u001b[0m\u001b[36;1m\u001b[1;3m[('Anti-Hero', '999748277'), ('Lover', '882831184'), ('cardigan', '812019557'), ('Cruel Summer', '800840817'), ('Style', '786181836')]\u001b[0m\u001b[32;1m\u001b[1;3mThe top 5 tracks of the artist 'Taylor Swift' are as follows:\n",
      "1. Track: Anti-Hero, Streams: 999,748,277\n",
      "2. Track: Lover, Streams: 882,831,184\n",
      "3. Track: cardigan, Streams: 812,019,557\n",
      "4. Track: Cruel Summer, Streams: 800,840,817\n",
      "5. Track: Style, Streams: 786,181,836\u001b[0m\n",
      "\n",
      "\u001b[1m> Finished chain.\u001b[0m\n"
     ]
    },
    {
     "data": {
      "text/plain": [
       "{'input': \"Hi, can you provide the top 5 tracks of an artist 'Taylor swift?\",\n",
       " 'output': \"The top 5 tracks of the artist 'Taylor Swift' are as follows:\\n1. Track: Anti-Hero, Streams: 999,748,277\\n2. Track: Lover, Streams: 882,831,184\\n3. Track: cardigan, Streams: 812,019,557\\n4. Track: Cruel Summer, Streams: 800,840,817\\n5. Track: Style, Streams: 786,181,836\"}"
      ]
     },
     "execution_count": 28,
     "metadata": {},
     "output_type": "execute_result"
    }
   ],
   "source": [
    "agent_executor.invoke({\"input\": \"Hi, can you provide the top 5 tracks of an artist 'Taylor swift?\"})"
   ]
  },
  {
   "cell_type": "code",
   "execution_count": null,
   "metadata": {},
   "outputs": [],
   "source": []
  }
 ],
 "metadata": {
  "kernelspec": {
   "display_name": "musicbot",
   "language": "python",
   "name": "python3"
  },
  "language_info": {
   "codemirror_mode": {
    "name": "ipython",
    "version": 3
   },
   "file_extension": ".py",
   "mimetype": "text/x-python",
   "name": "python",
   "nbconvert_exporter": "python",
   "pygments_lexer": "ipython3",
   "version": "3.11.9"
  }
 },
 "nbformat": 4,
 "nbformat_minor": 2
}
